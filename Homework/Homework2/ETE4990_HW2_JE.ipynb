{
 "cells": [
  {
   "cell_type": "markdown",
   "id": "c6431613-85a8-41b8-8dc0-2c7aeafe36b2",
   "metadata": {},
   "source": [
    "Jeremy Esperanza\n",
    "ETE 4990 HW2"
   ]
  },
  {
   "cell_type": "code",
   "execution_count": 1,
   "id": "0f1ae4a5-0b6f-42ed-96e3-3ed4f716d297",
   "metadata": {},
   "outputs": [],
   "source": [
    "#define classes\n",
    "class Animal:\n",
    "    def __init__(self, age):\n",
    "        self.age = age\n",
    "\n",
    "class Livestock(Animal): \n",
    "    def __init__(self, age, volume):\n",
    "        super().__init__(age) \n",
    "        self.volume = volume\n",
    "    def producer(self):\n",
    "        return True\n",
    "\n",
    "class Barn(Animal): \n",
    "    def __init__(self, age, weight):\n",
    "        super().__init__(age)\n",
    "        self.weight = weight\n",
    "    def producer(self):\n",
    "        return False\n",
    "\n",
    "class Cow(Livestock): \n",
    "    def __init__(self, age, volume, species):\n",
    "        super().__init__(age, volume)\n",
    "        self.species = species\n",
    "\n",
    "class Chicken(Livestock): \n",
    "    def __init__(self, age, volume, species):\n",
    "        super().__init__(age, volume)\n",
    "        self.species = species\n",
    "\n",
    "\n",
    "class Dog(Barn): \n",
    "    def __init__(self, age, weight, species):\n",
    "        super().__init__(age, weight)\n",
    "        self.species = species\n",
    "    \n",
    "\n",
    "\n",
    "class Cat(Barn):\n",
    "    def __init__(self, age, weight, species):\n",
    "        super().__init__(age, weight)\n",
    "        self.species = species\n",
    "\n",
    "\n",
    "class Horse(Barn): \n",
    "    def __init__(self, age, weight, species):\n",
    "        super().__init__(age, weight)\n",
    "        self.species = species\n",
    "\n",
    "    "
   ]
  },
  {
   "cell_type": "code",
   "execution_count": 2,
   "id": "69ccbc20-3085-43f0-a604-4b4454965990",
   "metadata": {},
   "outputs": [],
   "source": [
    "#define list for user to add to\n",
    "AnimalList = []\n"
   ]
  },
  {
   "cell_type": "code",
   "execution_count": 4,
   "id": "f2342a9e-7a78-4ad2-8dcd-cc30d1868872",
   "metadata": {},
   "outputs": [],
   "source": [
    "blah = Animal(8)\n",
    "blah1 = Livestock(4, 2)\n",
    "blah2 = Barn(6, 7)"
   ]
  },
  {
   "cell_type": "code",
   "execution_count": 5,
   "id": "c162b2c6-a907-430e-afbe-d390f18bce92",
   "metadata": {},
   "outputs": [
    {
     "name": "stdout",
     "output_type": "stream",
     "text": [
      "True\n",
      "False\n"
     ]
    }
   ],
   "source": [
    "print(blah1.producer())\n",
    "blah1.producer() == True\n",
    "print(blah2.producer())"
   ]
  },
  {
   "cell_type": "code",
   "execution_count": 6,
   "id": "69e0826e-4d30-4954-b7f1-b65edf615c65",
   "metadata": {},
   "outputs": [],
   "source": [
    "cow1 = Cow(2, 4, 'stink')\n",
    "jorse1 = Horse(3,6,'slow')"
   ]
  },
  {
   "cell_type": "code",
   "execution_count": 7,
   "id": "e5a6101f-9a75-4696-9199-c813aa8b9c0c",
   "metadata": {},
   "outputs": [
    {
     "name": "stdout",
     "output_type": "stream",
     "text": [
      "True\n",
      "False\n"
     ]
    }
   ],
   "source": [
    "print(cow1.producer())\n",
    "print(jorse1.producer())"
   ]
  },
  {
   "cell_type": "code",
   "execution_count": 8,
   "id": "8eb80ef9-75d1-4a6b-aab6-a83148eeeb33",
   "metadata": {},
   "outputs": [],
   "source": [
    "animaldictionary = {\n",
    "    'Cow' : Cow,\n",
    "    'Chicken' : Chicken,\n",
    "    'Dog' : Dog,\n",
    "    'Cat' : Cat,\n",
    "    'Horse' : Horse,\n",
    "}"
   ]
  },
  {
   "cell_type": "code",
   "execution_count": 9,
   "id": "0f8636cb-2086-4b59-8b8e-a5618c3a6027",
   "metadata": {},
   "outputs": [],
   "source": [
    "def listappend():\n",
    "    print(\"which type of animal to add?\\n\")\n",
    "    subclass = (input())\n",
    "    age = int(input(\"enter age\\n\"))\n",
    "    sub1 = int(input(\"enter volume or weight\\n\"))\n",
    "    species = input(\"enter species\\n\")\n",
    "            \n",
    "    if subclass in animaldictionary:\n",
    "        AnimalList.append(animaldictionary[subclass](age,sub1,species))\n",
    "    else:\n",
    "        print('that does not exist')"
   ]
  },
  {
   "cell_type": "code",
   "execution_count": 24,
   "id": "357630f7-285f-4f3a-859c-0a6d1b5c2d82",
   "metadata": {},
   "outputs": [],
   "source": [
    "def listremove():\n",
    "    print(\"which type of animal to remove?\\n\")\n",
    "    subclass = (input())\n",
    "    age = int(input(\"enter age\\n\"))\n",
    "    sub1 = int(input(\"enter volume or weight\\n\"))\n",
    "    species = input(\"enter species\\n\")\n",
    "    if subclass in animaldictionary:\n",
    "        AnimalList.remove(animaldictionary[subclass](age,sub1,species))\n",
    "    else:\n",
    "        print('that does not exist')"
   ]
  },
  {
   "cell_type": "code",
   "execution_count": 11,
   "id": "75b0aa93-1637-4394-a65e-b788ec2fbf7c",
   "metadata": {},
   "outputs": [
    {
     "name": "stdin",
     "output_type": "stream",
     "text": [
      "1 to add, 2 to remove, 0 to stop\n",
      " 1\n"
     ]
    },
    {
     "name": "stdout",
     "output_type": "stream",
     "text": [
      "which type of animal to add?\n",
      "\n"
     ]
    },
    {
     "name": "stdin",
     "output_type": "stream",
     "text": [
      " Horse\n",
      "enter age\n",
      " 2\n",
      "enter volume or weight\n",
      " 4\n",
      "enter species\n",
      " peter\n",
      "1 to add more 0 to stop\n",
      " 1\n"
     ]
    },
    {
     "name": "stdout",
     "output_type": "stream",
     "text": [
      "which type of animal to add?\n",
      "\n"
     ]
    },
    {
     "name": "stdin",
     "output_type": "stream",
     "text": [
      " Cow\n",
      "enter age\n",
      " 3\n",
      "enter volume or weight\n",
      " 6\n",
      "enter species\n",
      " legs\n",
      "1 to add more 0 to stop\n",
      " 0\n"
     ]
    }
   ],
   "source": [
    "#user input to add to the list\n",
    "#sub sub class\n",
    "subclass = \"\"\n",
    "age = \"\"\n",
    "sub1 = \"\"\n",
    "species = \"\"\n",
    "flag = 0\n",
    "flag = int(input(\"1 to add, 2 to remove, 0 to stop\\n\"))\n",
    "while flag == 1:\n",
    "    listappend()\n",
    "    \n",
    "\n",
    "    flag = int(input(\"1 to add more 0 to stop\\n\"))\n",
    "\n",
    "while flag == 2:\n",
    "    listremove()\n",
    "\n",
    "    flag = int(input(\"1 to remove more 0 to stop\\n\"))\n",
    "    \n",
    "    "
   ]
  },
  {
   "cell_type": "code",
   "execution_count": 12,
   "id": "a31a1d78-17b0-4c1d-9152-dbbbe63cb24e",
   "metadata": {},
   "outputs": [
    {
     "name": "stdout",
     "output_type": "stream",
     "text": [
      "False\n",
      "2\n",
      "True\n",
      "3\n"
     ]
    }
   ],
   "source": [
    "print(AnimalList[0].producer())\n",
    "print(AnimalList[0].age)\n",
    "print(AnimalList[1].producer())\n",
    "print(AnimalList[1].age)"
   ]
  },
  {
   "cell_type": "code",
   "execution_count": 13,
   "id": "28a0491f-b110-41d1-b523-52d5b2adc92f",
   "metadata": {},
   "outputs": [
    {
     "name": "stdout",
     "output_type": "stream",
     "text": [
      "[<__main__.Horse object at 0x000002210F8F65D0>, <__main__.Cow object at 0x000002210F8F6350>]\n"
     ]
    }
   ],
   "source": [
    "print(AnimalList)"
   ]
  },
  {
   "cell_type": "code",
   "execution_count": 15,
   "id": "c028f7d7-fb5c-454c-ac17-a00dc20a12aa",
   "metadata": {},
   "outputs": [
    {
     "name": "stdout",
     "output_type": "stream",
     "text": [
      "which type of animal to add?\n",
      "\n"
     ]
    },
    {
     "name": "stdin",
     "output_type": "stream",
     "text": [
      " Chicken\n",
      "enter age\n",
      " 1\n",
      "enter volume or weight\n",
      " 2\n",
      "enter species\n",
      " three\n"
     ]
    }
   ],
   "source": [
    "listappend()"
   ]
  },
  {
   "cell_type": "code",
   "execution_count": 23,
   "id": "6543fd53-f02a-47a7-8fb1-06d400886c65",
   "metadata": {},
   "outputs": [
    {
     "name": "stdout",
     "output_type": "stream",
     "text": [
      "[<__main__.Horse object at 0x000002210F8F65D0>, <__main__.Cow object at 0x000002210F8F6350>, <__main__.Chicken object at 0x000002210FAD9BE0>]\n"
     ]
    }
   ],
   "source": [
    "print(AnimalList)"
   ]
  },
  {
   "cell_type": "code",
   "execution_count": 25,
   "id": "466e4275-74a2-4f2e-b599-82d3d1013686",
   "metadata": {},
   "outputs": [
    {
     "name": "stdout",
     "output_type": "stream",
     "text": [
      "which type of animal to remove?\n",
      "\n"
     ]
    },
    {
     "name": "stdin",
     "output_type": "stream",
     "text": [
      " Chicken\n",
      "enter age\n",
      " 1\n",
      "enter volume or weight\n",
      " 2\n",
      "enter species\n",
      " three\n"
     ]
    },
    {
     "ename": "ValueError",
     "evalue": "list.remove(x): x not in list",
     "output_type": "error",
     "traceback": [
      "\u001b[1;31m---------------------------------------------------------------------------\u001b[0m",
      "\u001b[1;31mValueError\u001b[0m                                Traceback (most recent call last)",
      "Cell \u001b[1;32mIn[25], line 1\u001b[0m\n\u001b[1;32m----> 1\u001b[0m \u001b[43mlistremove\u001b[49m\u001b[43m(\u001b[49m\u001b[43m)\u001b[49m\n",
      "Cell \u001b[1;32mIn[24], line 8\u001b[0m, in \u001b[0;36mlistremove\u001b[1;34m()\u001b[0m\n\u001b[0;32m      6\u001b[0m species \u001b[38;5;241m=\u001b[39m \u001b[38;5;28minput\u001b[39m(\u001b[38;5;124m\"\u001b[39m\u001b[38;5;124menter species\u001b[39m\u001b[38;5;130;01m\\n\u001b[39;00m\u001b[38;5;124m\"\u001b[39m)\n\u001b[0;32m      7\u001b[0m \u001b[38;5;28;01mif\u001b[39;00m subclass \u001b[38;5;129;01min\u001b[39;00m animaldictionary:\n\u001b[1;32m----> 8\u001b[0m     \u001b[43mAnimalList\u001b[49m\u001b[38;5;241;43m.\u001b[39;49m\u001b[43mremove\u001b[49m\u001b[43m(\u001b[49m\u001b[43manimaldictionary\u001b[49m\u001b[43m[\u001b[49m\u001b[43msubclass\u001b[49m\u001b[43m]\u001b[49m\u001b[43m(\u001b[49m\u001b[43mage\u001b[49m\u001b[43m,\u001b[49m\u001b[43msub1\u001b[49m\u001b[43m,\u001b[49m\u001b[43mspecies\u001b[49m\u001b[43m)\u001b[49m\u001b[43m)\u001b[49m\n\u001b[0;32m      9\u001b[0m \u001b[38;5;28;01melse\u001b[39;00m:\n\u001b[0;32m     10\u001b[0m     \u001b[38;5;28mprint\u001b[39m(\u001b[38;5;124m'\u001b[39m\u001b[38;5;124mthat does not exist\u001b[39m\u001b[38;5;124m'\u001b[39m)\n",
      "\u001b[1;31mValueError\u001b[0m: list.remove(x): x not in list"
     ]
    }
   ],
   "source": [
    "listremove()"
   ]
  },
  {
   "cell_type": "code",
   "execution_count": null,
   "id": "1d15b0d9-11a2-4a73-8c1b-80e6e4cdc4db",
   "metadata": {},
   "outputs": [],
   "source": []
  }
 ],
 "metadata": {
  "kernelspec": {
   "display_name": "Python 3 (ipykernel)",
   "language": "python",
   "name": "python3"
  },
  "language_info": {
   "codemirror_mode": {
    "name": "ipython",
    "version": 3
   },
   "file_extension": ".py",
   "mimetype": "text/x-python",
   "name": "python",
   "nbconvert_exporter": "python",
   "pygments_lexer": "ipython3",
   "version": "3.13.1"
  }
 },
 "nbformat": 4,
 "nbformat_minor": 5
}
