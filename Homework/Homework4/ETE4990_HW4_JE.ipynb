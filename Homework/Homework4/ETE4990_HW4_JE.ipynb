{
 "cells": [
  {
   "cell_type": "markdown",
   "id": "be9d83c3-9a14-4ac5-a083-b5e3fd5b4ec1",
   "metadata": {},
   "source": [
    "Jeremy Esperanza\n",
    "ETE 4990\n",
    "Homework 4"
   ]
  },
  {
   "cell_type": "markdown",
   "id": "6e798149-f319-40c0-8cc7-f87acd00a23a",
   "metadata": {},
   "source": [
    "# Homework #4\n",
    "\n",
    "Develop a function named decode(message_file). \n",
    "\n",
    "This function should read an encoded message from a .txt file and return its decoded version as a string.\n",
    "\n",
    "Your function must be able to process an input file with the following format:\n",
    "\n",
    "```\n",
    "3 love\n",
    "6 computers\n",
    "2 dogs\n",
    "4 cats\n",
    "1 I\n",
    "5 you\n",
    "```\n",
    "\n",
    "In this file, each line contains a number followed by a word. The task is to decode a hidden message based on the arrangement of these numbers into a \"pyramid\" structure. The numbers are placed into the pyramid in ascending order, with each line of the pyramid having one more number than the line above it. The smallest number is 1, and the numbers increase consecutively, like so:\n",
    "\n",
    "```\n",
    "   1\n",
    "  2 3\n",
    " 4 5 6\n",
    "7 8 9 10\n",
    "```\n",
    "\n",
    "The key to decoding the message is to use the words corresponding to the numbers at the end of each pyramid line (in this example, 1, 3, and 6). You should ignore all the other words. So for the example input file above, the message words are:\n",
    "\n",
    "```\n",
    "1: I\n",
    "3: love\n",
    "6: computers\n",
    "```\n",
    "and your function should return the string \"I love computers\".\n",
    "\n"
   ]
  },
  {
   "cell_type": "code",
   "execution_count": 1,
   "id": "44c3f297-9756-4943-a731-59f7106252bc",
   "metadata": {},
   "outputs": [],
   "source": [
    "def readdata():\n",
    "    filename = \"SecretMessage.txt\"\n",
    "    try:\n",
    "        with open(filename ,'r') as file: #open file if it exists\n",
    "            return file.readlines()\n",
    "    except FileNotFoundError: #notify user that file does not exist\n",
    "        print('file does not exist')\n",
    "    file.close()"
   ]
  },
  {
   "cell_type": "code",
   "execution_count": 2,
   "id": "0792f34b-148c-47f2-9cf5-214964fa3fb1",
   "metadata": {},
   "outputs": [],
   "source": [
    "a = readdata()"
   ]
  },
  {
   "cell_type": "code",
   "execution_count": 3,
   "id": "ba656785-1fdf-4ac5-acbe-9e7a162b6925",
   "metadata": {},
   "outputs": [
    {
     "name": "stdout",
     "output_type": "stream",
     "text": [
      "['193 land\\n', '284 sun\\n', '16 too\\n', '136 solved\\n', '26 dont\\n', '286 such\\n', '130 noun\\n', '202 student\\n', '184 brown\\n', '135 complete\\n', '118 play\\n', '29 cook\\n', '72 yard\\n', '233 clock\\n', '275 would\\n', '265 plain\\n', '5 excite\\n', '132 fire\\n', '28 with\\n', '213 cool\\n', '272 child\\n', '163 past\\n', '212 colony\\n', '222 oil\\n', '7 dog\\n', '115 back\\n', '100 money\\n', '214 kind\\n', '64 open\\n', '107 finger\\n', '19 touch\\n', '109 are\\n', '241 dad\\n', '104 am\\n', '208 modern\\n', '108 meant\\n', '44 ocean\\n', '228 pitch\\n', '194 suit\\n', '58 town\\n', '179 east\\n', '204 over\\n', '35 group\\n', '250 good\\n', '137 kind\\n', '257 down\\n', '71 band\\n', '203 especially\\n', '113 organ\\n', '2 of\\n', '218 fire\\n', '197 out\\n', '247 area\\n', '280 touch\\n', '299 happen\\n', '126 sat\\n', '105 can\\n', '198 wrote\\n', '67 buy\\n', '120 be\\n', '252 stop\\n', '13 corn\\n', '201 where\\n', '264 skills\\n', '34 live\\n', '150 best\\n', '86 hold\\n', '292 cause\\n', '235 grand\\n', '30 present\\n', '138 indicate\\n', '92 counter\\n', '87 we\\n', '183 like\\n', '36 all\\n', '79 state\\n', '263 morning\\n', '227 true\\n', '209 are\\n', '234 ball\\n', '254 history\\n', '219 seat\\n', '62 rain\\n', '53 less\\n', '84 glass\\n', '178 tone\\n', '48 song\\n', '156 fair\\n', '226 element\\n', '25 speed\\n', '77 produce\\n', '223 quotient\\n', '46 sand\\n', '232 begin\\n', '83 moment\\n', '66 in\\n', '267 probable\\n', '3 all\\n', '140 necessary\\n', '281 post\\n', '38 cent\\n', '225 happen\\n', '278 speech\\n', '161 object\\n', '283 silver\\n', '216 third\\n', '166 crease\\n', '261 wait\\n', '168 triangle\\n', '239 idea\\n', '240 clothe\\n', '169 young\\n', '139 discuss\\n', '243 field\\n', '89 company\\n', '96 capital\\n', '255 compare\\n', '99 chart\\n', '122 possible\\n', '174 written\\n', '162 remember\\n', '144 mile\\n', '256 cold\\n', '259 lady\\n', '274 felt\\n', '95 against\\n', '123 skin\\n', '124 prepare\\n', '42 he\\n', '294 in\\n', '196 organ\\n', '145 object\\n', '253 in\\n', '287 major\\n', '20 discuss\\n', '153 by\\n', '111 hole\\n', '75 above\\n', '266 they\\n', '236 produce\\n', '224 straight\\n', '285 level\\n', '164 though\\n', '290 modern\\n', '65 dry\\n', '262 bought\\n', '90 milk\\n', '127 make\\n', '165 show\\n', '23 middle\\n', '170 center\\n', '97 blood\\n', '159 speak\\n', '12 prove\\n', '51 select\\n', '4 power\\n', '172 come\\n', '68 brown\\n', '167 experiment\\n', '230 strong\\n', '101 hurry\\n', '24 touch\\n', '296 reach\\n', '22 case\\n', '119 beat\\n', '182 over\\n', '185 dry\\n', '40 hill\\n', '69 company\\n', '8 opposite\\n', '143 work\\n', '268 field\\n', '188 felt\\n', '187 prepare\\n', '45 the\\n', '82 his\\n', '269 stay\\n', '279 toward\\n', '245 observe\\n', '289 time\\n', '149 stop\\n', '295 possible\\n', '171 a\\n', '14 prepare\\n', '190 system\\n', '57 compare\\n', '116 neighbor\\n', '88 thus\\n', '112 include\\n', '103 copy\\n', '47 bit\\n', '133 stead\\n', '134 does\\n', '80 general\\n', '258 solve\\n', '271 glad\\n', '158 duck\\n', '229 offer\\n', '176 happen\\n', '177 ball\\n', '291 bread\\n', '244 like\\n', '117 machine\\n', '238 come\\n', '59 any\\n', '129 band\\n', '63 it\\n', '94 section\\n', '60 close\\n', '273 heavy\\n', '43 produce\\n', '237 got\\n', '102 possible\\n', '251 insect\\n', '231 have\\n', '50 platter\\n', '18 men\\n', '211 bird\\n', '146 ease\\n', '220 trade\\n', '151 winter\\n', '277 am\\n', '157 repeat\\n', '114 first\\n', '242 to\\n', '154 each\\n', '297 guide\\n', '152 column\\n', '206 single\\n', '260 remember\\n', '155 wild\\n', '282 major\\n', '125 coast\\n', '175 class\\n', '11 done\\n', '160 jump\\n', '217 sister\\n', '248 feel\\n', '15 so\\n', '76 fire\\n', '17 nine\\n', '181 indicate\\n', '276 place\\n', '10 life\\n', '121 her\\n', '192 the\\n', '128 temperature\\n', '1 design\\n', '56 big\\n', '6 your\\n', '186 friend\\n', '33 hit\\n', '300 today\\n', '191 instant\\n', '288 blow\\n', '85 about\\n', '32 chick\\n', '199 answer\\n', '210 you\\n', '81 material\\n', '249 man\\n', '246 think\\n', '98 print\\n', '141 nor\\n', '142 better\\n', '73 example\\n', '61 people\\n', '41 drink\\n', '27 gun\\n', '110 together\\n', '49 cost\\n', '180 require\\n', '293 or\\n', '91 day\\n', '39 put\\n', '54 ease\\n', '215 ready\\n', '74 enough\\n', '37 sugar\\n', '21 that\\n', '52 with\\n', '131 us\\n', '270 share\\n', '93 office\\n', '106 protect\\n', '200 low\\n', '221 thus\\n', '173 farm\\n', '9 oxygen\\n', '207 fire\\n', '70 force\\n', '195 select\\n', '147 paragraph\\n', '298 always\\n', '205 poem\\n', '31 chick\\n', '78 a\\n', '189 fact\\n', '55 problems\\n', '148 term\\n']\n"
     ]
    }
   ],
   "source": [
    "print(a)"
   ]
  },
  {
   "cell_type": "code",
   "execution_count": 4,
   "id": "f44e2caf-36ad-464d-ac51-563ba9415765",
   "metadata": {},
   "outputs": [],
   "source": [
    "b = [item.partition(' ')[0] for item in a]"
   ]
  },
  {
   "cell_type": "code",
   "execution_count": 5,
   "id": "c52c9309-c6d0-4fd6-b1bd-defa2d19fd3e",
   "metadata": {},
   "outputs": [
    {
     "name": "stdout",
     "output_type": "stream",
     "text": [
      "['193', '284', '16', '136', '26', '286', '130', '202', '184', '135', '118', '29', '72', '233', '275', '265', '5', '132', '28', '213', '272', '163', '212', '222', '7', '115', '100', '214', '64', '107', '19', '109', '241', '104', '208', '108', '44', '228', '194', '58', '179', '204', '35', '250', '137', '257', '71', '203', '113', '2', '218', '197', '247', '280', '299', '126', '105', '198', '67', '120', '252', '13', '201', '264', '34', '150', '86', '292', '235', '30', '138', '92', '87', '183', '36', '79', '263', '227', '209', '234', '254', '219', '62', '53', '84', '178', '48', '156', '226', '25', '77', '223', '46', '232', '83', '66', '267', '3', '140', '281', '38', '225', '278', '161', '283', '216', '166', '261', '168', '239', '240', '169', '139', '243', '89', '96', '255', '99', '122', '174', '162', '144', '256', '259', '274', '95', '123', '124', '42', '294', '196', '145', '253', '287', '20', '153', '111', '75', '266', '236', '224', '285', '164', '290', '65', '262', '90', '127', '165', '23', '170', '97', '159', '12', '51', '4', '172', '68', '167', '230', '101', '24', '296', '22', '119', '182', '185', '40', '69', '8', '143', '268', '188', '187', '45', '82', '269', '279', '245', '289', '149', '295', '171', '14', '190', '57', '116', '88', '112', '103', '47', '133', '134', '80', '258', '271', '158', '229', '176', '177', '291', '244', '117', '238', '59', '129', '63', '94', '60', '273', '43', '237', '102', '251', '231', '50', '18', '211', '146', '220', '151', '277', '157', '114', '242', '154', '297', '152', '206', '260', '155', '282', '125', '175', '11', '160', '217', '248', '15', '76', '17', '181', '276', '10', '121', '192', '128', '1', '56', '6', '186', '33', '300', '191', '288', '85', '32', '199', '210', '81', '249', '246', '98', '141', '142', '73', '61', '41', '27', '110', '49', '180', '293', '91', '39', '54', '215', '74', '37', '21', '52', '131', '270', '93', '106', '200', '221', '173', '9', '207', '70', '195', '147', '298', '205', '31', '78', '189', '55', '148']\n"
     ]
    }
   ],
   "source": [
    "print(b)"
   ]
  },
  {
   "cell_type": "code",
   "execution_count": 6,
   "id": "3118e38a-0dae-4472-9a8f-88ed5d38c80b",
   "metadata": {},
   "outputs": [],
   "source": [
    "intlist = []"
   ]
  },
  {
   "cell_type": "code",
   "execution_count": 7,
   "id": "1122fc57-a716-4a46-a142-f0761304ba99",
   "metadata": {},
   "outputs": [],
   "source": [
    "for i in b:\n",
    "    intlist.append(int(i))"
   ]
  },
  {
   "cell_type": "code",
   "execution_count": 8,
   "id": "ee7431ab-e164-49d5-8883-7708cca0752b",
   "metadata": {},
   "outputs": [
    {
     "name": "stdout",
     "output_type": "stream",
     "text": [
      "[193, 284, 16, 136, 26, 286, 130, 202, 184, 135, 118, 29, 72, 233, 275, 265, 5, 132, 28, 213, 272, 163, 212, 222, 7, 115, 100, 214, 64, 107, 19, 109, 241, 104, 208, 108, 44, 228, 194, 58, 179, 204, 35, 250, 137, 257, 71, 203, 113, 2, 218, 197, 247, 280, 299, 126, 105, 198, 67, 120, 252, 13, 201, 264, 34, 150, 86, 292, 235, 30, 138, 92, 87, 183, 36, 79, 263, 227, 209, 234, 254, 219, 62, 53, 84, 178, 48, 156, 226, 25, 77, 223, 46, 232, 83, 66, 267, 3, 140, 281, 38, 225, 278, 161, 283, 216, 166, 261, 168, 239, 240, 169, 139, 243, 89, 96, 255, 99, 122, 174, 162, 144, 256, 259, 274, 95, 123, 124, 42, 294, 196, 145, 253, 287, 20, 153, 111, 75, 266, 236, 224, 285, 164, 290, 65, 262, 90, 127, 165, 23, 170, 97, 159, 12, 51, 4, 172, 68, 167, 230, 101, 24, 296, 22, 119, 182, 185, 40, 69, 8, 143, 268, 188, 187, 45, 82, 269, 279, 245, 289, 149, 295, 171, 14, 190, 57, 116, 88, 112, 103, 47, 133, 134, 80, 258, 271, 158, 229, 176, 177, 291, 244, 117, 238, 59, 129, 63, 94, 60, 273, 43, 237, 102, 251, 231, 50, 18, 211, 146, 220, 151, 277, 157, 114, 242, 154, 297, 152, 206, 260, 155, 282, 125, 175, 11, 160, 217, 248, 15, 76, 17, 181, 276, 10, 121, 192, 128, 1, 56, 6, 186, 33, 300, 191, 288, 85, 32, 199, 210, 81, 249, 246, 98, 141, 142, 73, 61, 41, 27, 110, 49, 180, 293, 91, 39, 54, 215, 74, 37, 21, 52, 131, 270, 93, 106, 200, 221, 173, 9, 207, 70, 195, 147, 298, 205, 31, 78, 189, 55, 148]\n"
     ]
    }
   ],
   "source": [
    "print(intlist)"
   ]
  },
  {
   "cell_type": "code",
   "execution_count": 9,
   "id": "a021639c-3f95-4b84-89c1-d363306cdcdd",
   "metadata": {},
   "outputs": [],
   "source": [
    "c = [item.partition(' ')[2] for item in a]"
   ]
  },
  {
   "cell_type": "code",
   "execution_count": 10,
   "id": "45b8e4b7-d3e2-4dbf-ae0a-6feddeefa49a",
   "metadata": {},
   "outputs": [
    {
     "name": "stdout",
     "output_type": "stream",
     "text": [
      "['land\\n', 'sun\\n', 'too\\n', 'solved\\n', 'dont\\n', 'such\\n', 'noun\\n', 'student\\n', 'brown\\n', 'complete\\n', 'play\\n', 'cook\\n', 'yard\\n', 'clock\\n', 'would\\n', 'plain\\n', 'excite\\n', 'fire\\n', 'with\\n', 'cool\\n', 'child\\n', 'past\\n', 'colony\\n', 'oil\\n', 'dog\\n', 'back\\n', 'money\\n', 'kind\\n', 'open\\n', 'finger\\n', 'touch\\n', 'are\\n', 'dad\\n', 'am\\n', 'modern\\n', 'meant\\n', 'ocean\\n', 'pitch\\n', 'suit\\n', 'town\\n', 'east\\n', 'over\\n', 'group\\n', 'good\\n', 'kind\\n', 'down\\n', 'band\\n', 'especially\\n', 'organ\\n', 'of\\n', 'fire\\n', 'out\\n', 'area\\n', 'touch\\n', 'happen\\n', 'sat\\n', 'can\\n', 'wrote\\n', 'buy\\n', 'be\\n', 'stop\\n', 'corn\\n', 'where\\n', 'skills\\n', 'live\\n', 'best\\n', 'hold\\n', 'cause\\n', 'grand\\n', 'present\\n', 'indicate\\n', 'counter\\n', 'we\\n', 'like\\n', 'all\\n', 'state\\n', 'morning\\n', 'true\\n', 'are\\n', 'ball\\n', 'history\\n', 'seat\\n', 'rain\\n', 'less\\n', 'glass\\n', 'tone\\n', 'song\\n', 'fair\\n', 'element\\n', 'speed\\n', 'produce\\n', 'quotient\\n', 'sand\\n', 'begin\\n', 'moment\\n', 'in\\n', 'probable\\n', 'all\\n', 'necessary\\n', 'post\\n', 'cent\\n', 'happen\\n', 'speech\\n', 'object\\n', 'silver\\n', 'third\\n', 'crease\\n', 'wait\\n', 'triangle\\n', 'idea\\n', 'clothe\\n', 'young\\n', 'discuss\\n', 'field\\n', 'company\\n', 'capital\\n', 'compare\\n', 'chart\\n', 'possible\\n', 'written\\n', 'remember\\n', 'mile\\n', 'cold\\n', 'lady\\n', 'felt\\n', 'against\\n', 'skin\\n', 'prepare\\n', 'he\\n', 'in\\n', 'organ\\n', 'object\\n', 'in\\n', 'major\\n', 'discuss\\n', 'by\\n', 'hole\\n', 'above\\n', 'they\\n', 'produce\\n', 'straight\\n', 'level\\n', 'though\\n', 'modern\\n', 'dry\\n', 'bought\\n', 'milk\\n', 'make\\n', 'show\\n', 'middle\\n', 'center\\n', 'blood\\n', 'speak\\n', 'prove\\n', 'select\\n', 'power\\n', 'come\\n', 'brown\\n', 'experiment\\n', 'strong\\n', 'hurry\\n', 'touch\\n', 'reach\\n', 'case\\n', 'beat\\n', 'over\\n', 'dry\\n', 'hill\\n', 'company\\n', 'opposite\\n', 'work\\n', 'field\\n', 'felt\\n', 'prepare\\n', 'the\\n', 'his\\n', 'stay\\n', 'toward\\n', 'observe\\n', 'time\\n', 'stop\\n', 'possible\\n', 'a\\n', 'prepare\\n', 'system\\n', 'compare\\n', 'neighbor\\n', 'thus\\n', 'include\\n', 'copy\\n', 'bit\\n', 'stead\\n', 'does\\n', 'general\\n', 'solve\\n', 'glad\\n', 'duck\\n', 'offer\\n', 'happen\\n', 'ball\\n', 'bread\\n', 'like\\n', 'machine\\n', 'come\\n', 'any\\n', 'band\\n', 'it\\n', 'section\\n', 'close\\n', 'heavy\\n', 'produce\\n', 'got\\n', 'possible\\n', 'insect\\n', 'have\\n', 'platter\\n', 'men\\n', 'bird\\n', 'ease\\n', 'trade\\n', 'winter\\n', 'am\\n', 'repeat\\n', 'first\\n', 'to\\n', 'each\\n', 'guide\\n', 'column\\n', 'single\\n', 'remember\\n', 'wild\\n', 'major\\n', 'coast\\n', 'class\\n', 'done\\n', 'jump\\n', 'sister\\n', 'feel\\n', 'so\\n', 'fire\\n', 'nine\\n', 'indicate\\n', 'place\\n', 'life\\n', 'her\\n', 'the\\n', 'temperature\\n', 'design\\n', 'big\\n', 'your\\n', 'friend\\n', 'hit\\n', 'today\\n', 'instant\\n', 'blow\\n', 'about\\n', 'chick\\n', 'answer\\n', 'you\\n', 'material\\n', 'man\\n', 'think\\n', 'print\\n', 'nor\\n', 'better\\n', 'example\\n', 'people\\n', 'drink\\n', 'gun\\n', 'together\\n', 'cost\\n', 'require\\n', 'or\\n', 'day\\n', 'put\\n', 'ease\\n', 'ready\\n', 'enough\\n', 'sugar\\n', 'that\\n', 'with\\n', 'us\\n', 'share\\n', 'office\\n', 'protect\\n', 'low\\n', 'thus\\n', 'farm\\n', 'oxygen\\n', 'fire\\n', 'force\\n', 'select\\n', 'paragraph\\n', 'always\\n', 'poem\\n', 'chick\\n', 'a\\n', 'fact\\n', 'problems\\n', 'term\\n']\n"
     ]
    }
   ],
   "source": [
    "print(c)"
   ]
  },
  {
   "cell_type": "code",
   "execution_count": 11,
   "id": "cd5e27a6-10da-48c4-8da0-404e106f06a2",
   "metadata": {},
   "outputs": [],
   "source": [
    "d = c"
   ]
  },
  {
   "cell_type": "code",
   "execution_count": 12,
   "id": "606e0d12-5e4b-432d-b3c2-1a03312325ea",
   "metadata": {},
   "outputs": [],
   "source": [
    "strlist = []"
   ]
  },
  {
   "cell_type": "code",
   "execution_count": 13,
   "id": "03b60551-a4bc-4ddc-b12a-f7133df86580",
   "metadata": {},
   "outputs": [],
   "source": [
    "for i in d:\n",
    "    strlist.append(i.replace(\"\\n\",\"\"))"
   ]
  },
  {
   "cell_type": "code",
   "execution_count": 14,
   "id": "c0d9c8c8-a3ea-4b09-af40-629622051a29",
   "metadata": {},
   "outputs": [
    {
     "name": "stdout",
     "output_type": "stream",
     "text": [
      "['land', 'sun', 'too', 'solved', 'dont', 'such', 'noun', 'student', 'brown', 'complete', 'play', 'cook', 'yard', 'clock', 'would', 'plain', 'excite', 'fire', 'with', 'cool', 'child', 'past', 'colony', 'oil', 'dog', 'back', 'money', 'kind', 'open', 'finger', 'touch', 'are', 'dad', 'am', 'modern', 'meant', 'ocean', 'pitch', 'suit', 'town', 'east', 'over', 'group', 'good', 'kind', 'down', 'band', 'especially', 'organ', 'of', 'fire', 'out', 'area', 'touch', 'happen', 'sat', 'can', 'wrote', 'buy', 'be', 'stop', 'corn', 'where', 'skills', 'live', 'best', 'hold', 'cause', 'grand', 'present', 'indicate', 'counter', 'we', 'like', 'all', 'state', 'morning', 'true', 'are', 'ball', 'history', 'seat', 'rain', 'less', 'glass', 'tone', 'song', 'fair', 'element', 'speed', 'produce', 'quotient', 'sand', 'begin', 'moment', 'in', 'probable', 'all', 'necessary', 'post', 'cent', 'happen', 'speech', 'object', 'silver', 'third', 'crease', 'wait', 'triangle', 'idea', 'clothe', 'young', 'discuss', 'field', 'company', 'capital', 'compare', 'chart', 'possible', 'written', 'remember', 'mile', 'cold', 'lady', 'felt', 'against', 'skin', 'prepare', 'he', 'in', 'organ', 'object', 'in', 'major', 'discuss', 'by', 'hole', 'above', 'they', 'produce', 'straight', 'level', 'though', 'modern', 'dry', 'bought', 'milk', 'make', 'show', 'middle', 'center', 'blood', 'speak', 'prove', 'select', 'power', 'come', 'brown', 'experiment', 'strong', 'hurry', 'touch', 'reach', 'case', 'beat', 'over', 'dry', 'hill', 'company', 'opposite', 'work', 'field', 'felt', 'prepare', 'the', 'his', 'stay', 'toward', 'observe', 'time', 'stop', 'possible', 'a', 'prepare', 'system', 'compare', 'neighbor', 'thus', 'include', 'copy', 'bit', 'stead', 'does', 'general', 'solve', 'glad', 'duck', 'offer', 'happen', 'ball', 'bread', 'like', 'machine', 'come', 'any', 'band', 'it', 'section', 'close', 'heavy', 'produce', 'got', 'possible', 'insect', 'have', 'platter', 'men', 'bird', 'ease', 'trade', 'winter', 'am', 'repeat', 'first', 'to', 'each', 'guide', 'column', 'single', 'remember', 'wild', 'major', 'coast', 'class', 'done', 'jump', 'sister', 'feel', 'so', 'fire', 'nine', 'indicate', 'place', 'life', 'her', 'the', 'temperature', 'design', 'big', 'your', 'friend', 'hit', 'today', 'instant', 'blow', 'about', 'chick', 'answer', 'you', 'material', 'man', 'think', 'print', 'nor', 'better', 'example', 'people', 'drink', 'gun', 'together', 'cost', 'require', 'or', 'day', 'put', 'ease', 'ready', 'enough', 'sugar', 'that', 'with', 'us', 'share', 'office', 'protect', 'low', 'thus', 'farm', 'oxygen', 'fire', 'force', 'select', 'paragraph', 'always', 'poem', 'chick', 'a', 'fact', 'problems', 'term']\n"
     ]
    }
   ],
   "source": [
    "print(strlist)"
   ]
  },
  {
   "cell_type": "code",
   "execution_count": 15,
   "id": "95e7aecf-b9e0-4248-a6de-29786105a500",
   "metadata": {},
   "outputs": [],
   "source": [
    "newdict = {}"
   ]
  },
  {
   "cell_type": "code",
   "execution_count": 16,
   "id": "78d92aa6-93c2-479e-8ad6-eefb3260ec02",
   "metadata": {},
   "outputs": [],
   "source": [
    "for i in intlist:\n",
    "    newdict.update({intlist[i-1]:strlist[i-1]})"
   ]
  },
  {
   "cell_type": "code",
   "execution_count": 17,
   "id": "38e93c0a-0d18-4e91-b519-60fa2f7ecf9a",
   "metadata": {},
   "outputs": [
    {
     "name": "stdout",
     "output_type": "stream",
     "text": [
      "{134: 'does', 93: 'office', 265: 'plain', 153: 'by', 115: 'back', 200: 'low', 294: 'in', 244: 'like', 14: 'prepare', 20: 'discuss', 99: 'chart', 64: 'open', 92: 'counter', 125: 'coast', 39: 'put', 142: 'better', 26: 'dont', 145: 'object', 214: 'kind', 102: 'possible', 180: 'require', 296: 'reach', 237: 'got', 277: 'am', 130: 'noun', 89: 'company', 281: 'post', 251: 'insect', 264: 'skills', 166: 'crease', 28: 'with', 168: 'triangle', 17: 'nine', 161: 'object', 94: 'section', 261: 'wait', 250: 'good', 152: 'column', 80: 'general', 198: 'wrote', 245: 'observe', 238: 'come', 208: 'modern', 6: 'your', 111: 'hole', 32: 'chick', 138: 'indicate', 117: 'machine', 139: 'discuss', 284: 'sun', 211: 'bird', 158: 'duck', 128: 'temperature', 21: 'that', 55: 'problems', 95: 'against', 283: 'silver', 229: 'offer', 86: 'hold', 174: 'written', 33: 'hit', 72: 'yard', 291: 'bread', 141: 'nor', 104: 'am', 23: 'middle', 178: 'tone', 195: 'select', 11: 'done', 107: 'finger', 75: 'above', 223: 'quotient', 48: 'song', 171: 'a', 108: 'meant', 209: 'are', 98: 'print', 297: 'guide', 60: 'close', 175: 'class', 191: 'instant', 146: 'ease', 13: 'corn', 247: 'area', 53: 'less', 279: 'toward', 203: 'especially', 4: 'power', 154: 'each', 7: 'dog', 263: 'morning', 157: 'repeat', 257: 'down', 282: 'major', 62: 'rain', 150: 'best', 61: 'people', 16: 'too', 236: 'produce', 52: 'with', 228: 'pitch', 242: 'to', 74: 'enough', 101: 'hurry', 270: 'share', 50: 'platter', 182: 'over', 249: 'man', 40: 'hill', 15: 'so', 76: 'fire', 69: 'company', 266: 'they', 276: 'place', 226: 'element', 66: 'in', 288: 'blow', 140: 'necessary', 144: 'mile', 187: 'prepare', 24: 'touch', 290: 'modern', 85: 'about', 210: 'you', 91: 'day', 83: 'moment', 256: 'cold', 259: 'lady', 204: 'over', 298: 'always', 271: 'glad', 65: 'dry', 300: 'today', 221: 'thus', 213: 'cool', 159: 'speak', 240: 'clothe', 36: 'all', 73: 'example', 160: 'jump', 114: 'first', 106: 'protect', 22: 'case', 207: 'fire', 34: 'live', 246: 'think', 25: 'speed', 123: 'skin', 119: 'beat', 212: 'colony', 8: 'opposite', 267: 'probable', 167: 'experiment', 29: 'cook', 218: 'fire', 136: 'solved', 268: 'field', 292: 'cause', 185: 'dry', 260: 'remember', 38: 'cent', 222: 'oil', 31: 'chick', 163: 'past', 122: 'possible', 295: 'possible', 190: 'system', 58: 'town', 235: 'grand', 202: 'student', 164: 'though', 41: 'drink', 88: 'thus', 116: 'neighbor', 137: 'kind', 219: 'seat', 27: 'gun', 37: 'sugar', 121: 'her', 9: 'oxygen', 165: 'show', 205: 'poem', 143: 'work', 233: 'clock', 103: 'copy', 105: 'can', 96: 'capital', 156: 'fair', 169: 'young', 278: 'speech', 71: 'band', 253: 'in', 287: 'major', 234: 'ball', 199: 'answer', 49: 'cost', 68: 'brown', 206: 'single', 82: 'his', 269: 'stay', 70: 'force', 10: 'life', 255: 'compare', 248: 'feel', 67: 'buy', 42: 'he', 201: 'where', 232: 'begin', 120: 'be', 293: 'or', 35: 'group', 217: 'sister', 225: 'happen', 186: 'friend', 155: 'wild', 2: 'of', 132: 'fire', 43: 'produce', 262: 'bought', 220: 'trade', 170: 'center', 215: 'ready', 172: 'come', 243: 'field', 181: 'indicate', 12: 'prove', 78: 'a', 97: 'blood', 129: 'band', 81: 'material', 51: 'select', 131: 'us', 274: 'felt', 45: 'the', 118: 'play', 230: 'strong', 18: 'men', 1: 'design', 275: 'would', 79: 'state', 5: 'excite', 149: 'stop', 54: 'ease', 135: 'complete', 162: 'remember', 133: 'stead', 124: 'prepare', 193: 'land', 126: 'sat', 286: 'such', 57: 'compare', 241: 'dad', 148: 'term', 47: 'bit', 173: 'farm', 84: 'glass', 109: 'are', 176: 'happen', 273: 'heavy', 254: 'history', 56: 'big', 192: 'the', 3: 'all', 224: 'straight', 285: 'level', 87: 'we', 252: 'stop', 179: 'east', 100: 'money', 239: 'idea', 113: 'organ', 289: 'time', 147: 'paragraph', 77: 'produce', 194: 'suit', 280: 'touch', 231: 'have', 183: 'like', 44: 'ocean', 272: 'child', 197: 'out', 196: 'organ', 110: 'together', 46: 'sand', 216: 'third', 177: 'ball', 151: 'winter', 188: 'felt', 184: 'brown', 63: 'it', 30: 'present', 258: 'solve', 90: 'milk', 189: 'fact', 59: 'any', 19: 'touch', 227: 'true', 112: 'include', 299: 'happen', 127: 'make'}\n"
     ]
    }
   ],
   "source": [
    "print(newdict)"
   ]
  },
  {
   "cell_type": "code",
   "execution_count": 18,
   "id": "a4a13612-8291-4995-9494-22b58e707732",
   "metadata": {},
   "outputs": [],
   "source": [
    "sorted_dict = sorted(newdict.items())"
   ]
  },
  {
   "cell_type": "code",
   "execution_count": 19,
   "id": "0c0a3eb3-7e15-40c0-b50e-69f175eb40bd",
   "metadata": {},
   "outputs": [
    {
     "name": "stdout",
     "output_type": "stream",
     "text": [
      "[(1, 'design'), (2, 'of'), (3, 'all'), (4, 'power'), (5, 'excite'), (6, 'your'), (7, 'dog'), (8, 'opposite'), (9, 'oxygen'), (10, 'life'), (11, 'done'), (12, 'prove'), (13, 'corn'), (14, 'prepare'), (15, 'so'), (16, 'too'), (17, 'nine'), (18, 'men'), (19, 'touch'), (20, 'discuss'), (21, 'that'), (22, 'case'), (23, 'middle'), (24, 'touch'), (25, 'speed'), (26, 'dont'), (27, 'gun'), (28, 'with'), (29, 'cook'), (30, 'present'), (31, 'chick'), (32, 'chick'), (33, 'hit'), (34, 'live'), (35, 'group'), (36, 'all'), (37, 'sugar'), (38, 'cent'), (39, 'put'), (40, 'hill'), (41, 'drink'), (42, 'he'), (43, 'produce'), (44, 'ocean'), (45, 'the'), (46, 'sand'), (47, 'bit'), (48, 'song'), (49, 'cost'), (50, 'platter'), (51, 'select'), (52, 'with'), (53, 'less'), (54, 'ease'), (55, 'problems'), (56, 'big'), (57, 'compare'), (58, 'town'), (59, 'any'), (60, 'close'), (61, 'people'), (62, 'rain'), (63, 'it'), (64, 'open'), (65, 'dry'), (66, 'in'), (67, 'buy'), (68, 'brown'), (69, 'company'), (70, 'force'), (71, 'band'), (72, 'yard'), (73, 'example'), (74, 'enough'), (75, 'above'), (76, 'fire'), (77, 'produce'), (78, 'a'), (79, 'state'), (80, 'general'), (81, 'material'), (82, 'his'), (83, 'moment'), (84, 'glass'), (85, 'about'), (86, 'hold'), (87, 'we'), (88, 'thus'), (89, 'company'), (90, 'milk'), (91, 'day'), (92, 'counter'), (93, 'office'), (94, 'section'), (95, 'against'), (96, 'capital'), (97, 'blood'), (98, 'print'), (99, 'chart'), (100, 'money'), (101, 'hurry'), (102, 'possible'), (103, 'copy'), (104, 'am'), (105, 'can'), (106, 'protect'), (107, 'finger'), (108, 'meant'), (109, 'are'), (110, 'together'), (111, 'hole'), (112, 'include'), (113, 'organ'), (114, 'first'), (115, 'back'), (116, 'neighbor'), (117, 'machine'), (118, 'play'), (119, 'beat'), (120, 'be'), (121, 'her'), (122, 'possible'), (123, 'skin'), (124, 'prepare'), (125, 'coast'), (126, 'sat'), (127, 'make'), (128, 'temperature'), (129, 'band'), (130, 'noun'), (131, 'us'), (132, 'fire'), (133, 'stead'), (134, 'does'), (135, 'complete'), (136, 'solved'), (137, 'kind'), (138, 'indicate'), (139, 'discuss'), (140, 'necessary'), (141, 'nor'), (142, 'better'), (143, 'work'), (144, 'mile'), (145, 'object'), (146, 'ease'), (147, 'paragraph'), (148, 'term'), (149, 'stop'), (150, 'best'), (151, 'winter'), (152, 'column'), (153, 'by'), (154, 'each'), (155, 'wild'), (156, 'fair'), (157, 'repeat'), (158, 'duck'), (159, 'speak'), (160, 'jump'), (161, 'object'), (162, 'remember'), (163, 'past'), (164, 'though'), (165, 'show'), (166, 'crease'), (167, 'experiment'), (168, 'triangle'), (169, 'young'), (170, 'center'), (171, 'a'), (172, 'come'), (173, 'farm'), (174, 'written'), (175, 'class'), (176, 'happen'), (177, 'ball'), (178, 'tone'), (179, 'east'), (180, 'require'), (181, 'indicate'), (182, 'over'), (183, 'like'), (184, 'brown'), (185, 'dry'), (186, 'friend'), (187, 'prepare'), (188, 'felt'), (189, 'fact'), (190, 'system'), (191, 'instant'), (192, 'the'), (193, 'land'), (194, 'suit'), (195, 'select'), (196, 'organ'), (197, 'out'), (198, 'wrote'), (199, 'answer'), (200, 'low'), (201, 'where'), (202, 'student'), (203, 'especially'), (204, 'over'), (205, 'poem'), (206, 'single'), (207, 'fire'), (208, 'modern'), (209, 'are'), (210, 'you'), (211, 'bird'), (212, 'colony'), (213, 'cool'), (214, 'kind'), (215, 'ready'), (216, 'third'), (217, 'sister'), (218, 'fire'), (219, 'seat'), (220, 'trade'), (221, 'thus'), (222, 'oil'), (223, 'quotient'), (224, 'straight'), (225, 'happen'), (226, 'element'), (227, 'true'), (228, 'pitch'), (229, 'offer'), (230, 'strong'), (231, 'have'), (232, 'begin'), (233, 'clock'), (234, 'ball'), (235, 'grand'), (236, 'produce'), (237, 'got'), (238, 'come'), (239, 'idea'), (240, 'clothe'), (241, 'dad'), (242, 'to'), (243, 'field'), (244, 'like'), (245, 'observe'), (246, 'think'), (247, 'area'), (248, 'feel'), (249, 'man'), (250, 'good'), (251, 'insect'), (252, 'stop'), (253, 'in'), (254, 'history'), (255, 'compare'), (256, 'cold'), (257, 'down'), (258, 'solve'), (259, 'lady'), (260, 'remember'), (261, 'wait'), (262, 'bought'), (263, 'morning'), (264, 'skills'), (265, 'plain'), (266, 'they'), (267, 'probable'), (268, 'field'), (269, 'stay'), (270, 'share'), (271, 'glad'), (272, 'child'), (273, 'heavy'), (274, 'felt'), (275, 'would'), (276, 'place'), (277, 'am'), (278, 'speech'), (279, 'toward'), (280, 'touch'), (281, 'post'), (282, 'major'), (283, 'silver'), (284, 'sun'), (285, 'level'), (286, 'such'), (287, 'major'), (288, 'blow'), (289, 'time'), (290, 'modern'), (291, 'bread'), (292, 'cause'), (293, 'or'), (294, 'in'), (295, 'possible'), (296, 'reach'), (297, 'guide'), (298, 'always'), (299, 'happen'), (300, 'today')]\n"
     ]
    }
   ],
   "source": [
    "print(sorted_dict)"
   ]
  },
  {
   "cell_type": "code",
   "execution_count": 20,
   "id": "654041ab-4e90-4296-96ea-b59404fe14a3",
   "metadata": {},
   "outputs": [
    {
     "name": "stdout",
     "output_type": "stream",
     "text": [
      "<class 'list'>\n"
     ]
    }
   ],
   "source": [
    "print(type(sorted_dict))"
   ]
  },
  {
   "cell_type": "code",
   "execution_count": 21,
   "id": "1bbd63df-d1cc-4b7a-964a-cad87a319333",
   "metadata": {},
   "outputs": [
    {
     "name": "stdout",
     "output_type": "stream",
     "text": [
      "design\n"
     ]
    }
   ],
   "source": [
    "print(sorted_dict[0][1])"
   ]
  },
  {
   "cell_type": "code",
   "execution_count": 22,
   "id": "09986793-f1f1-4d06-ab1c-1e1d4ef9a063",
   "metadata": {},
   "outputs": [
    {
     "name": "stdout",
     "output_type": "stream",
     "text": [
      "design\n",
      "0\n",
      "all\n",
      "2\n",
      "your\n",
      "5\n",
      "life\n",
      "9\n",
      "so\n",
      "14\n",
      "that\n",
      "20\n",
      "with\n",
      "27\n",
      "all\n",
      "35\n",
      "the\n",
      "44\n",
      "problems\n",
      "54\n",
      "in\n",
      "65\n",
      "a\n",
      "77\n",
      "day\n",
      "90\n",
      "can\n",
      "104\n",
      "be\n",
      "119\n",
      "solved\n",
      "135\n",
      "by\n",
      "152\n",
      "a\n",
      "170\n",
      "system\n",
      "189\n",
      "you\n",
      "209\n",
      "have\n",
      "230\n",
      "in\n",
      "252\n",
      "place\n",
      "275\n",
      "today\n",
      "299\n"
     ]
    }
   ],
   "source": [
    "j = 0\n",
    "number = 0\n",
    "while number < 300:\n",
    "    print(sorted_dict[number][1])\n",
    "    print(number)\n",
    "    number += 2 + j\n",
    "    j += 1\n",
    "    \n"
   ]
  },
  {
   "cell_type": "code",
   "execution_count": 23,
   "id": "d22d09fa-37cb-4baf-9ae9-6cf84a2697a0",
   "metadata": {},
   "outputs": [],
   "source": [
    "j = 0\n",
    "number = 0\n",
    "endme = []\n",
    "while number < 300:\n",
    "    endme.append(sorted_dict[number][1])\n",
    "    number += 2 + j\n",
    "    j += 1\n",
    "    \n"
   ]
  },
  {
   "cell_type": "code",
   "execution_count": 24,
   "id": "adfa5752-36c1-45e4-803a-3f26182366ce",
   "metadata": {},
   "outputs": [
    {
     "name": "stdout",
     "output_type": "stream",
     "text": [
      "['design', 'all', 'your', 'life', 'so', 'that', 'with', 'all', 'the', 'problems', 'in', 'a', 'day', 'can', 'be', 'solved', 'by', 'a', 'system', 'you', 'have', 'in', 'place', 'today']\n"
     ]
    }
   ],
   "source": [
    "print(endme)"
   ]
  },
  {
   "cell_type": "code",
   "execution_count": 25,
   "id": "0e4e39b7-72cb-4960-836d-7062154f0815",
   "metadata": {},
   "outputs": [],
   "source": [
    "ugh = ' '.join(endme)"
   ]
  },
  {
   "cell_type": "code",
   "execution_count": 26,
   "id": "35594920-0c0d-4a92-be27-238f88b38934",
   "metadata": {},
   "outputs": [
    {
     "name": "stdout",
     "output_type": "stream",
     "text": [
      "design all your life so that with all the problems in a day can be solved by a system you have in place today\n"
     ]
    }
   ],
   "source": [
    "print(ugh)"
   ]
  },
  {
   "cell_type": "code",
   "execution_count": null,
   "id": "f6229804-2db4-44cb-9688-8d0cd1e3a9bc",
   "metadata": {},
   "outputs": [],
   "source": []
  }
 ],
 "metadata": {
  "kernelspec": {
   "display_name": "Python 3 (ipykernel)",
   "language": "python",
   "name": "python3"
  },
  "language_info": {
   "codemirror_mode": {
    "name": "ipython",
    "version": 3
   },
   "file_extension": ".py",
   "mimetype": "text/x-python",
   "name": "python",
   "nbconvert_exporter": "python",
   "pygments_lexer": "ipython3",
   "version": "3.13.1"
  }
 },
 "nbformat": 4,
 "nbformat_minor": 5
}
