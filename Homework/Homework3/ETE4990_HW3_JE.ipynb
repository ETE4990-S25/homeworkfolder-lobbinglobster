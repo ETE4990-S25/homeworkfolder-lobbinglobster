{
 "cells": [
  {
   "cell_type": "markdown",
   "id": "6c93510c-a27a-4770-9049-edd22f9bca56",
   "metadata": {},
   "source": [
    "Jeremy Esperanza \n",
    "ETE 4990\n",
    "Homework 3"
   ]
  },
  {
   "cell_type": "code",
   "execution_count": 1,
   "id": "7b319e51-6301-4cdd-9794-cc6146bfcd22",
   "metadata": {},
   "outputs": [],
   "source": [
    "from data_classes import Person, Student\n",
    "import json"
   ]
  },
  {
   "cell_type": "code",
   "execution_count": 2,
   "id": "6d296b05-f06b-46bd-afc3-85fc73c716ce",
   "metadata": {},
   "outputs": [],
   "source": [
    "jeff = Student('jeff', 22, '@du', 152)"
   ]
  },
  {
   "cell_type": "code",
   "execution_count": 3,
   "id": "691f2d81-9040-4bd7-b246-5477e260cd87",
   "metadata": {},
   "outputs": [],
   "source": [
    "studentids = {'jeff' : jeff.student_id}"
   ]
  },
  {
   "cell_type": "code",
   "execution_count": 4,
   "id": "0c4669bc-3e2b-45ed-9ed8-a6bedd5fedba",
   "metadata": {},
   "outputs": [
    {
     "name": "stdout",
     "output_type": "stream",
     "text": [
      "152\n"
     ]
    }
   ],
   "source": [
    "print(studentids['jeff'])"
   ]
  },
  {
   "cell_type": "code",
   "execution_count": 5,
   "id": "a974eb2b-611a-4bb1-83cd-ec66f66e62e5",
   "metadata": {},
   "outputs": [],
   "source": [
    "def savedata(info):\n",
    "    filename = \"hw3data.json\"\n",
    "    try:\n",
    "        with open(filename, 'w') as file: #open file if it exists\n",
    "            json.dump(info, file)\n",
    "    except FileNotFoundError: #create file if it does not exist\n",
    "        with open(filename, 'w') as file:\n",
    "            json.dump(info, file)\n",
    "    file.close()"
   ]
  },
  {
   "cell_type": "code",
   "execution_count": 6,
   "id": "949ef25b-abb2-46e9-8d62-e73d062affe3",
   "metadata": {},
   "outputs": [],
   "source": [
    "def readdata():\n",
    "    filename = \"hw3data.json\"\n",
    "    try:\n",
    "        with open(filename ,'r') as file: #open file if it exists\n",
    "            data = json.load(file)\n",
    "            print(data)\n",
    "    except FileNotFoundError: #notify user that file does not exist\n",
    "        print('file does not exist')\n",
    "    file.close()"
   ]
  },
  {
   "cell_type": "code",
   "execution_count": 9,
   "id": "0930c417-d328-4215-89d9-4c41f775f604",
   "metadata": {},
   "outputs": [],
   "source": [
    "savedata(studentids)"
   ]
  },
  {
   "cell_type": "code",
   "execution_count": 12,
   "id": "0f3efe53-7df9-4190-a6b0-b0e92237dccc",
   "metadata": {},
   "outputs": [
    {
     "name": "stdout",
     "output_type": "stream",
     "text": [
      "{'jeff': 152}\n"
     ]
    }
   ],
   "source": [
    "readdata()"
   ]
  },
  {
   "cell_type": "code",
   "execution_count": null,
   "id": "13653249-c9a2-480f-92ed-be52244b26c5",
   "metadata": {},
   "outputs": [],
   "source": []
  }
 ],
 "metadata": {
  "kernelspec": {
   "display_name": "Python 3 (ipykernel)",
   "language": "python",
   "name": "python3"
  },
  "language_info": {
   "codemirror_mode": {
    "name": "ipython",
    "version": 3
   },
   "file_extension": ".py",
   "mimetype": "text/x-python",
   "name": "python",
   "nbconvert_exporter": "python",
   "pygments_lexer": "ipython3",
   "version": "3.13.1"
  }
 },
 "nbformat": 4,
 "nbformat_minor": 5
}
