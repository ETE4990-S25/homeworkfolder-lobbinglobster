{
 "cells": [
  {
   "cell_type": "markdown",
   "metadata": {},
   "source": [
    "Jeremy Esperanza\n",
    "ETE 4990\n",
    "Project 2"
   ]
  },
  {
   "cell_type": "code",
   "execution_count": null,
   "metadata": {},
   "outputs": [],
   "source": [
    "import asyncio\n",
    "import nest_asyncio\n",
    "import time\n",
    "import threading\n",
    "from multiprocessing import Process"
   ]
  },
  {
   "cell_type": "code",
   "execution_count": 1,
   "metadata": {},
   "outputs": [],
   "source": [
    "def is_prime(n):\n",
    "    if n <= 1:\n",
    "        return False\n",
    "    for i in range(2, int(n ** 0.5) + 1):\n",
    "        if n % i == 0:\n",
    "            return False\n",
    "    return True"
   ]
  },
  {
   "cell_type": "code",
   "execution_count": null,
   "metadata": {},
   "outputs": [
    {
     "name": "stdout",
     "output_type": "stream",
     "text": [
      "14788547\n"
     ]
    }
   ],
   "source": [
    "#asynch \n",
    "#3 minutes = 60 * 3 = 180s\n",
    "nest_asyncio.apply()\n",
    "#regular function\n",
    "def is_prime(n):\n",
    "    if n <= 1:\n",
    "        return False\n",
    "    for i in range(2, int(n ** 0.5) + 1):\n",
    "        if n % i == 0:\n",
    "            return False\n",
    "    return True\n",
    "\n",
    "#asynchronous function\n",
    "async def is_prime_async(n):\n",
    "    if n <= 1:\n",
    "        return False\n",
    "    for i in range(2, int(n ** 0.5) + 1):\n",
    "        if n % i == 0:\n",
    "            return False\n",
    "    return True\n",
    "\n",
    "#function to run for 3 minutes\n",
    "async def async_primes_3min():\n",
    "    time_start = time.time()\n",
    "    async_num = 0\n",
    "    while time.time() - time_start < 180:\n",
    "        if is_prime(async_num):\n",
    "            highest_prime = async_num\n",
    "        async_num += 1\n",
    "        #task1 = asyncio.create_task(is_prime_async(async_num))\n",
    "        #await task1\n",
    "    print(highest_prime)\n",
    "\n",
    "async def main():\n",
    "    task2 = asyncio.create_task(async_primes_3min())\n",
    "    await task2\n",
    "\n",
    "asyncio.run(main())\n",
    "#async_primes_3min()"
   ]
  },
  {
   "cell_type": "code",
   "execution_count": null,
   "metadata": {},
   "outputs": [
    {
     "name": "stdout",
     "output_type": "stream",
     "text": [
      "6897643\n"
     ]
    }
   ],
   "source": [
    "#threading\n",
    "#regular function\n",
    "def is_prime(n):\n",
    "    if n <= 1:\n",
    "        return False\n",
    "    for i in range(2, int(n ** 0.5) + 1):\n",
    "        if n % i == 0:\n",
    "            return False\n",
    "    return True\n",
    "\n",
    "#function to run for 3 minutes\n",
    "def threading_primes_3min():\n",
    "    time_start = time.time()\n",
    "    threading_num = 0\n",
    "    while time.time() - time_start < 180:\n",
    "        if is_prime(threading_num):\n",
    "            highest_prime = threading_num\n",
    "        threading_num += 1\n",
    "    print(highest_prime)\n",
    "\n",
    "thread = threading.Thread(target=threading_primes_3min)\n",
    "thread.start()"
   ]
  },
  {
   "cell_type": "code",
   "execution_count": null,
   "metadata": {},
   "outputs": [],
   "source": [
    "#multiprocessing"
   ]
  }
 ],
 "metadata": {
  "kernelspec": {
   "display_name": "Python 3",
   "language": "python",
   "name": "python3"
  },
  "language_info": {
   "codemirror_mode": {
    "name": "ipython",
    "version": 3
   },
   "file_extension": ".py",
   "mimetype": "text/x-python",
   "name": "python",
   "nbconvert_exporter": "python",
   "pygments_lexer": "ipython3",
   "version": "3.13.1"
  }
 },
 "nbformat": 4,
 "nbformat_minor": 2
}
