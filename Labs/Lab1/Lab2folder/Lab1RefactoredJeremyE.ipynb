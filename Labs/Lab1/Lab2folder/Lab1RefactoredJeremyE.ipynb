{
 "cells": [
  {
   "cell_type": "markdown",
   "id": "ac613382-acda-4f55-909d-5deb9a1afbda",
   "metadata": {},
   "source": [
    "## Victor Flores\n",
    "## Edited by Jeremy Esperanza\n",
    "### ETE 4990 Lab 1\n",
    "### 24 January 2025\n",
    "\n",
    "# Lists\n",
    "\n",
    "## Background\n",
    "Lists are one of the most commonly used data structures in Python and are very similar to arrays from other programming languages. A list can store many items or values inside of one overall object or structure, unlike a variable which can only store one item or value inside one object. \n",
    "\n",
    "The items in a list can be accessed by using what is called an “index” value, which simply refers to the position of a certain item inside of a list, as lists are ordered from item 0 to the number of elements - 1. Therefore a list with 5 elements will have index positions 0 through 4. \n",
    "\n",
    "Any data can be stored inside a list, numbers, strings, or objects, but it is common practice to only have one data type per list. Therefore if my list has integers, it would ONLY have integers, not strings, doubles, objects, etc."
   ]
  },
  {
   "cell_type": "markdown",
   "id": "c0e77989-3dbb-4106-b49b-f8dfa5bfeab5",
   "metadata": {},
   "source": [
    "## Mini-project - Guessing game\n",
    "Create a number guessing game and set a secret number at the beginning of the program. \n",
    "The program will ask the player to enter a number to guess what the number is, then it’ll inform the player if they got it right or wrong."
   ]
  },
  {
   "cell_type": "code",
   "execution_count": 2,
   "id": "4ff13200-3b6b-4173-8416-fa65d2234d9e",
   "metadata": {},
   "outputs": [
    {
     "name": "stdin",
     "output_type": "stream",
     "text": [
      "Make a guess: 1\n"
     ]
    },
    {
     "name": "stdout",
     "output_type": "stream",
     "text": [
      "you're HIM!!\n"
     ]
    }
   ],
   "source": [
    "secretNumber = 1\n",
    "guess = int(input(\"Make a guess:\"))\n",
    "if guess == secretNumber:\n",
    "    print(\"you're HIM!!\")\n",
    "else:\n",
    "    print(\"you're washed, hang it up, my guy.\")"
   ]
  },
  {
   "cell_type": "markdown",
   "id": "4584cbfd-289d-4f0d-a899-06d90d69e3fe",
   "metadata": {},
   "source": [
    "## Mini-Project - Dice Roll\n",
    "\n",
    "Part 1:\n",
    "Create a random number generator using dice. \n",
    "You must create at least 5 dice\n",
    "The game must use conditionals (If, Else, Elif)\n",
    "The game must use nested conditionals (if 0=0:if 1=1: do something)\n",
    "\n",
    "What lists should we create for the project?\n",
    "How many loops do we need?\n",
    "\n",
    "Part 2:\n",
    "Create a list to store your gameplay. \n",
    "Create at least 2 lists to store your game statistics.\n",
    "\n",
    "Part 3:\n",
    "At the end of the output your gameplay statistics\n",
    "\n",
    "Part 4:\n",
    "Exchange code with your partner and begin adding comments on improvements (save your original version)\n",
    "\n",
    "Part 5:\n",
    "Return the code and create a comparison \n",
    "\n",
    "Part 6:\n",
    "Upload the code and comparison it to Canvas. "
   ]
  },
  {
   "cell_type": "code",
   "execution_count": null,
   "id": "6e1661d1-9cb5-40b4-948f-5c1649344d78",
   "metadata": {},
   "outputs": [],
   "source": []
  },
  {
   "cell_type": "code",
   "execution_count": 5,
   "id": "ac8bbe6d-b2c3-4bb1-b155-788e842709de",
   "metadata": {},
   "outputs": [],
   "source": []
  },
  {
   "cell_type": "markdown",
   "id": "5aabb0c8-f22b-434d-b8ff-ff036d398ac7",
   "metadata": {},
   "source": [
    "Part 1"
   ]
  },
  {
   "cell_type": "code",
   "execution_count": 3,
   "id": "c1a378f3-4f8f-44c6-9181-8c2030ecc6ac",
   "metadata": {},
   "outputs": [],
   "source": [
    "\n",
    "\n"
   ]
  },
  {
   "cell_type": "code",
   "execution_count": 6,
   "id": "fab3fa4b-d8b7-44c3-8b42-b693a121729d",
   "metadata": {},
   "outputs": [],
   "source": []
  },
  {
   "cell_type": "code",
   "execution_count": 9,
   "id": "9413b241-2b48-4316-9ed3-0b8d1fdd8bac",
   "metadata": {},
   "outputs": [
    {
     "name": "stdin",
     "output_type": "stream",
     "text": [
      "Welcome to the game!! Type 1 to start:  0\n"
     ]
    },
    {
     "name": "stdout",
     "output_type": "stream",
     "text": [
      "Thanks For Playing!!\n"
     ]
    }
   ],
   "source": []
  },
  {
   "cell_type": "code",
   "execution_count": null,
   "id": "71bd6e9e-9a0d-47e9-bb77-8923424bf84b",
   "metadata": {},
   "outputs": [],
   "source": [
    "##original code\n",
    "import random\n",
    "def dice_roll():\n",
    "    return random.randint(1, 6)\n",
    "for i in range(5):\n",
    "    die1 = dice_roll()\n",
    "    die2 = dice_roll()\n",
    "    die3 = dice_roll()\n",
    "    die4 = dice_roll()\n",
    "    die5 = dice_roll()\n",
    "    LastRoll = FiveDice\n",
    "\n",
    "    \n",
    "\n",
    "    start = int(input(\"Welcome to the game!! Type 1 to start: \"))\n",
    "\n",
    "    if start == 1:\n",
    "        FiveDice = [die1,die2,die3,die4,die5]\n",
    "        HIvalue = max(FiveDice)\n",
    "        LOvalue = min(FiveDice)\n",
    "        \n",
    "        print(\"Current Roll: \", FiveDice)\n",
    "        print(\"Last Roll: \", LastRoll)\n",
    "        print(\"Highest Die = \", HIvalue)\n",
    "        print(\"Lowest Die = \", LOvalue)\n",
    "\n",
    "        \n",
    "    \n",
    "\n",
    "print(\"Thanks for Playing!!\\n Your Stats\\n\")\n",
    "print(\"Current Roll: \", FiveDice)\n",
    "print(\"Last Roll: \", LastRoll)\n",
    "print(\"Highest Die = \", HIvalue)\n",
    "print(\"Lowest Die = \", LOvalue)\n"
   ]
  },
  {
   "cell_type": "markdown",
   "id": "0d49a197-87a2-4eea-b95d-a9e838cc4c67",
   "metadata": {},
   "source": [
    "Part 2"
   ]
  },
  {
   "cell_type": "code",
   "execution_count": 17,
   "id": "5c13ed19-2c20-4b44-ad4e-42ade657ad3d",
   "metadata": {},
   "outputs": [
    {
     "name": "stdin",
     "output_type": "stream",
     "text": [
      "Welcome to the game!! Type 1 to start:  5\n"
     ]
    },
    {
     "name": "stdout",
     "output_type": "stream",
     "text": [
      "exit\n",
      "Thanks for Playing!!\n",
      " Your Stats\n",
      "\n",
      "Current Roll:  0\n",
      "Last Roll:  0\n",
      "Highest Die =  0\n",
      "Lowest Die =  0\n"
     ]
    }
   ],
   "source": [
    "\n",
    "##edited code starts\n",
    "import random\n",
    "def dice_roll():\n",
    "    return random.randint(1, 6)\n",
    "\n",
    "FiveDice = 0\n",
    "HIvalue = 0\n",
    "LOvalue = 0\n",
    "for i in range(5):\n",
    "    die1 = dice_roll()\n",
    "    die2 = dice_roll()\n",
    "    die3 = dice_roll()\n",
    "    die4 = dice_roll()\n",
    "    die5 = dice_roll()\n",
    "    LastRoll = FiveDice\n",
    "\n",
    "    \n",
    "\n",
    "    start = int(input(\"Welcome to the game!! Type 1 to start: \"))\n",
    "\n",
    "    if start == 1:\n",
    "        FiveDice = [die1,die2,die3,die4,die5]\n",
    "        HIvalue = max(FiveDice)\n",
    "        LOvalue = min(FiveDice)\n",
    "        \n",
    "        \n",
    "        print(\"\\nCurrent Roll: \", FiveDice)\n",
    "        print(\"Last Roll: \", LastRoll)\n",
    "        print(\"Highest Die = \", HIvalue)\n",
    "        print(\"Lowest Die = \", LOvalue)\n",
    "        print(\"\\n\")\n",
    "\n",
    "    if start != 1:\n",
    "        print(\"exit\")\n",
    "        break\n",
    "\n",
    "        \n",
    "    \n",
    "\n",
    "print(\"Thanks for Playing!!\\n Your Stats\\n\")\n",
    "print(\"Current Roll: \", FiveDice)\n",
    "print(\"Last Roll: \", LastRoll)\n",
    "print(\"Highest Die = \", HIvalue)\n",
    "print(\"Lowest Die = \", LOvalue)\n"
   ]
  },
  {
   "cell_type": "markdown",
   "id": "024a25d5-cb96-44be-9e7c-cb852c12f272",
   "metadata": {},
   "source": [
    "## Sample code\n",
    "Below you will find a Chat GPT generated Dice game.\n",
    "\n",
    "Lets talk about it. "
   ]
  },
  {
   "cell_type": "code",
   "execution_count": null,
   "id": "22a730ba-7ed0-4f65-8e31-fdaee97e43a3",
   "metadata": {},
   "outputs": [],
   "source": [
    "import random\n",
    "\n",
    "def roll_dice():\n",
    "    return random.randint(1, 6)\n",
    "\n",
    "def main():\n",
    "    print(\"Welcome to the Dice Rolling Game!\")\n",
    "    print(\"You and the computer will each roll a dice, and the one with the higher number wins.\")\n",
    "\n",
    "    while True:\n",
    "        input(\"Press Enter to roll the dice...\")\n",
    "        \n",
    "        user_roll = roll_dice()\n",
    "        computer_roll = roll_dice()\n",
    "\n",
    "        print(\"You rolled:\", user_roll)\n",
    "        print(\"Computer rolled:\", computer_roll)\n",
    "\n",
    "        if user_roll > computer_roll:\n",
    "            print(\"Congratulations! You win!\")\n",
    "        elif user_roll < computer_roll:\n",
    "            print(\"Sorry, you lost. Better luck next time!\")\n",
    "        else:\n",
    "            print(\"It's a tie!\")\n",
    "\n",
    "        play_again = input(\"Do you want to play again? (yes/no): \").lower()\n",
    "        if play_again != \"yes\":\n",
    "            print(\"Thanks for playing!\")\n",
    "            break\n",
    "\n",
    "if __name__ == \"__main__\":\n",
    "    main()"
   ]
  },
  {
   "cell_type": "code",
   "execution_count": null,
   "id": "31e6d976-765c-4a4a-848a-4fedaa2bf83a",
   "metadata": {},
   "outputs": [],
   "source": []
  }
 ],
 "metadata": {
  "kernelspec": {
   "display_name": "Python 3 (ipykernel)",
   "language": "python",
   "name": "python3"
  },
  "language_info": {
   "codemirror_mode": {
    "name": "ipython",
    "version": 3
   },
   "file_extension": ".py",
   "mimetype": "text/x-python",
   "name": "python",
   "nbconvert_exporter": "python",
   "pygments_lexer": "ipython3",
   "version": "3.13.1"
  }
 },
 "nbformat": 4,
 "nbformat_minor": 5
}
