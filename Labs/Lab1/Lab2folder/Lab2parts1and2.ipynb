{
 "cells": [
  {
   "cell_type": "markdown",
   "id": "bb795762-408b-42c1-8373-1dd8ab825866",
   "metadata": {},
   "source": [
    "### Part 1 - Warm-up\n",
    "\n",
    "You will refactor the following code:"
   ]
  },
  {
   "cell_type": "code",
   "execution_count": 1,
   "id": "0021824b-3a26-4782-b359-cbf9a6d4368d",
   "metadata": {},
   "outputs": [
    {
     "name": "stdout",
     "output_type": "stream",
     "text": [
      "Enter a number:  1\n"
     ]
    },
    {
     "name": "stdout",
     "output_type": "stream",
     "text": [
      "5 is more than 1\n"
     ]
    }
   ],
   "source": [
    "#stolen from https://realpython.com/python-refactoring/\n",
    "#yes you can go there and look at what they did no do it yourself\n",
    "x = 5\n",
    "value = input(\"Enter a number: \")\n",
    "y = int(value)\n",
    "if x < y:\n",
    "    print(f\"{x} is less than {y}\")\n",
    "elif x == y:\n",
    "    print(f\"{x} is equal to {y}\")\n",
    "else:\n",
    "    print(f\"{x} is more than {y}\")"
   ]
  },
  {
   "cell_type": "code",
   "execution_count": 2,
   "id": "91dfbd9a-f1fa-499e-8386-659a73640151",
   "metadata": {},
   "outputs": [
    {
     "name": "stdout",
     "output_type": "stream",
     "text": [
      "Enter a number:  1\n"
     ]
    },
    {
     "name": "stdout",
     "output_type": "stream",
     "text": [
      "5 is more than 1\n"
     ]
    }
   ],
   "source": [
    "# put your refactored code here\n",
    "target = 5\n",
    "value = input(\"Enter a number: \")\n",
    "guess = int(value)\n",
    "if target < guess : print(f\"{target} is less than {guess}\")\n",
    "elif target == guess: print(f\"{target} is equal to {guess}\")\n",
    "else: print(f\"{target} is more than {guess}\")"
   ]
  },
  {
   "cell_type": "code",
   "execution_count": 9,
   "id": "72a3b232-c77c-4187-883d-9e83ddf0f127",
   "metadata": {},
   "outputs": [
    {
     "name": "stdout",
     "output_type": "stream",
     "text": [
      "casts fireball\n",
      "slashes with sword\n",
      "fights dragon\n",
      "exploring dungeon\n",
      "exploring dungeon\n",
      "exploring dungeon\n",
      "exploring dungeon\n",
      "exploring dungeon\n",
      "finding treasure\n",
      "finding treasure\n",
      "finding treasure\n",
      "finding treasure\n",
      "finding treasure\n"
     ]
    }
   ],
   "source": [
    "def a(x, y):\n",
    "    if x == \"wizard\":\n",
    "        if y == \"fireball\":\n",
    "            return \"casts fireball\"\n",
    "        elif y == \"lightning\":\n",
    "            return \"casts lightning\"\n",
    "        else:\n",
    "            return \"does nothing\"\n",
    "    elif x == \"warrior\":\n",
    "        if y == \"slash\":\n",
    "            return \"slashes with sword\"\n",
    "        elif y == \"bash\":\n",
    "            return \"bashes with shield\"\n",
    "        else:\n",
    "            return \"does nothing\"\n",
    "    else:\n",
    "        return \"does nothing\"\n",
    "\n",
    "def b(z):\n",
    "    for i in range(10):\n",
    "        if z == \"dragon\":\n",
    "            return \"fights dragon\"\n",
    "        elif z == \"goblin\":\n",
    "            return \"fights goblin\"\n",
    "        elif z == \"orc\":\n",
    "            return \"fights orc\"\n",
    "        else:\n",
    "            return \"does nothing\"\n",
    "\n",
    "def c():\n",
    "    for i in range(5):\n",
    "        print(\"exploring dungeon\")\n",
    "    for j in range(5):\n",
    "        print(\"finding treasure\")\n",
    "\n",
    "\n",
    "print(a(\"wizard\", \"fireball\"))\n",
    "print(a(\"warrior\", \"slash\"))\n",
    "print(b(\"dragon\"))\n",
    "c()\n"
   ]
  },
  {
   "cell_type": "code",
   "execution_count": 22,
   "id": "c0ca1a6f-14e7-435b-b05d-0ab7632e96ca",
   "metadata": {},
   "outputs": [
    {
     "name": "stdout",
     "output_type": "stream",
     "text": [
      "casts fireball\n",
      "slashes with sword\n",
      "fights dragon\n",
      "exploring dungeon\n",
      "exploring dungeon\n",
      "exploring dungeon\n",
      "exploring dungeon\n",
      "exploring dungeon\n",
      "finding treasure\n",
      "finding treasure\n",
      "finding treasure\n",
      "finding treasure\n",
      "finding treasure\n"
     ]
    }
   ],
   "source": [
    "# put your refactored code here\n",
    "\n",
    "def Person(Job, Attack):\n",
    "    if Job == \"wizard\": \n",
    "        if Attack == \"fireball\": return \"casts fireball\"\n",
    "        elif Attack == \"lightning\": return \"casts lightning\"\n",
    "        else: return \"does nothing\"\n",
    "            \n",
    "    if Job == \"warrior\":\n",
    "        if Attack == \"slash\": return \"slashes with sword\"\n",
    "        elif Attack == \"bash\": return \"bashes with shield\"\n",
    "        else: return \"does nothing\"\n",
    "            \n",
    "    else:return \"does nothing\"\n",
    "\n",
    "def Target(Creature):\n",
    "    creaturelist = [\"dragon\", \"goblin\", \"orc\"]\n",
    "    for i in range(10):\n",
    "        if Creature in creaturelist: return f\"fights {Creature}\"\n",
    "            \n",
    "        else: return \"does nothing\"\n",
    "\n",
    "def NonCombatAction():\n",
    "    for i in range(5): print(\"exploring dungeon\")\n",
    "    for j in range(5): print(\"finding treasure\")\n",
    "\n",
    "\n",
    "print(Person(\"wizard\", \"fireball\"))\n",
    "print(Person(\"warrior\", \"slash\"))\n",
    "print(Target(\"dragon\"))\n",
    "NonCombatAction()"
   ]
  },
  {
   "cell_type": "code",
   "execution_count": 28,
   "id": "60b7c254-7cb6-4c48-8ea5-101f4386ae0e",
   "metadata": {},
   "outputs": [
    {
     "name": "stdout",
     "output_type": "stream",
     "text": [
      "attacks with fireball\n",
      "attacks with slash\n",
      "fights dragon\n",
      "exploring dungeon\n",
      "exploring dungeon\n",
      "exploring dungeon\n",
      "exploring dungeon\n",
      "exploring dungeon\n",
      "finding treasure\n",
      "finding treasure\n",
      "finding treasure\n",
      "finding treasure\n",
      "finding treasure\n"
     ]
    }
   ],
   "source": [
    "# put your refactored code here\n",
    "\n",
    "def Person(Job, Attack):\n",
    "    wizardspells = [\"fireball\",\"lightning\"]\n",
    "    warriorspells = [\"slash\", \"bash\"]\n",
    "    if Job == \"wizard\":\n",
    "        if Attack in wizardspells: return f\"attacks with {Attack}\"\n",
    "\n",
    "    if Job == \"warrior\":\n",
    "        if Attack in warriorspells : return f\"attacks with {Attack}\"\n",
    "\n",
    "    else: return \"does nothing\"\n",
    "            \n",
    "\n",
    "def Target(Creature):\n",
    "    creaturelist = [\"dragon\", \"goblin\", \"orc\"]\n",
    "    for i in range(10):\n",
    "        if Creature in creaturelist: return f\"fights {Creature}\"\n",
    "            \n",
    "        else: return \"does nothing\"\n",
    "\n",
    "def NonCombatAction():\n",
    "    for i in range(5): print(\"exploring dungeon\")\n",
    "    for j in range(5): print(\"finding treasure\")\n",
    "\n",
    "\n",
    "print(Person(\"wizard\", \"fireball\"))\n",
    "print(Person(\"warrior\", \"slash\"))\n",
    "print(Target(\"dragon\"))\n",
    "NonCombatAction()"
   ]
  },
  {
   "cell_type": "code",
   "execution_count": 39,
   "id": "6959d939-22ba-406d-ab0e-b3fd0e10e740",
   "metadata": {},
   "outputs": [
    {
     "name": "stdout",
     "output_type": "stream",
     "text": [
      "attacks with fireball\n",
      "attacks with slash\n",
      "fights dragon\n",
      "exploring dungeon\n",
      "exploring dungeon\n",
      "exploring dungeon\n",
      "exploring dungeon\n",
      "exploring dungeon\n",
      "finding treasure\n",
      "finding treasure\n",
      "finding treasure\n",
      "finding treasure\n",
      "finding treasure\n"
     ]
    }
   ],
   "source": [
    "# put your refactored code here\n",
    "\n",
    "def Person(Job, Attack):\n",
    "    JobAttacks = {\n",
    "    'wizard' : [\"fireball\",\"lightning\"],\n",
    "    'warrior' : [\"slash\", \"bash\"],\n",
    "    }\n",
    "    if Job in JobAttacks:\n",
    "        if Attack in JobAttacks[Job]: return f\"attacks with {Attack}\"\n",
    "\n",
    "    else: return \"does nothing\"\n",
    "            \n",
    "\n",
    "def Target(Creature):\n",
    "    creaturelist = [\"dragon\", \"goblin\", \"orc\"]\n",
    "    for i in range(10):\n",
    "        if Creature in creaturelist: return f\"fights {Creature}\"\n",
    "            \n",
    "        else: return \"does nothing\"\n",
    "\n",
    "def NonCombatAction():\n",
    "    for i in range(5): print(\"exploring dungeon\")\n",
    "    for j in range(5): print(\"finding treasure\")\n",
    "\n",
    "\n",
    "print(Person(\"wizard\", \"fireball\"))\n",
    "print(Person(\"warrior\", \"slash\"))\n",
    "print(Target(\"dragon\"))\n",
    "NonCombatAction()"
   ]
  },
  {
   "cell_type": "code",
   "execution_count": 35,
   "id": "a62e63fd-6561-4d18-8fa7-027ae8e01915",
   "metadata": {},
   "outputs": [
    {
     "name": "stdout",
     "output_type": "stream",
     "text": [
      "fireball\n",
      "true!\n"
     ]
    }
   ],
   "source": [
    "JobAttacks = {'wizard' : [\"fireball\",\"lightning\"],\n",
    "                  'warrior' : [\"slash\", \"bash\"],\n",
    "                 }\n",
    "print(JobAttacks['wizard'][0])\n",
    "if 'fireball' in JobAttacks['wizard']:\n",
    "    print(\"true!\")"
   ]
  },
  {
   "cell_type": "code",
   "execution_count": null,
   "id": "9a140185-b6ef-47e8-855c-319d8da55ecc",
   "metadata": {},
   "outputs": [],
   "source": []
  }
 ],
 "metadata": {
  "kernelspec": {
   "display_name": "Python 3 (ipykernel)",
   "language": "python",
   "name": "python3"
  },
  "language_info": {
   "codemirror_mode": {
    "name": "ipython",
    "version": 3
   },
   "file_extension": ".py",
   "mimetype": "text/x-python",
   "name": "python",
   "nbconvert_exporter": "python",
   "pygments_lexer": "ipython3",
   "version": "3.13.1"
  }
 },
 "nbformat": 4,
 "nbformat_minor": 5
}
