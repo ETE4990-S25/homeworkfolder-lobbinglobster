{
 "cells": [
  {
   "cell_type": "markdown",
   "metadata": {},
   "source": [
    "Jeremy Esperanza"
   ]
  },
  {
   "cell_type": "markdown",
   "metadata": {},
   "source": [
    "## Lab Objective:\n",
    "Create a Python script that recursively searches a file system for files with identical names. Perform a comparison on files and output the file paths of identical files.\n",
    "\n",
    "## Required tasks\n",
    "1. A menu\n",
    "    - this should be fairly easy seeing as your games (should) already have a menu system\n",
    "2. Recursive Search\n",
    "    - a recursive search is a search that will travle into a folder and back out.\n",
    "3. Comparison\n",
    "    - I recomend using a check sum comparison operation like MD5 or SHA-256\n",
    "4. Output\n",
    "    - the program will output files and there directories \n",
    "        - this can be done live or after\n",
    "\n",
    "## Instructions:\n",
    "Submit the file as a .py show it running in a .ipynb file\n",
    "\n",
    "\n",
    "Please find some sample code below to get you started\n",
    "\n"
   ]
  },
  {
   "cell_type": "code",
   "execution_count": null,
   "metadata": {},
   "outputs": [
    {
     "name": "stdout",
     "output_type": "stream",
     "text": [
      "\n",
      "--- File Duplicate Finder ---\n",
      "1. Enter directory to search\n",
      "2. Exit\n"
     ]
    },
    {
     "name": "stdin",
     "output_type": "stream",
     "text": [
      "Choose an option:  1\n",
      "Enter directory to search C:\\Users\\jermy\\Downloads\\lab7folder\n"
     ]
    },
    {
     "name": "stdout",
     "output_type": "stream",
     "text": [
      "there are one or more duplicates in gt.txt\n",
      "there are one or more duplicates in gt.txt\n",
      "\n",
      "--- File Duplicate Finder ---\n",
      "1. Enter directory to search\n",
      "2. Exit\n"
     ]
    },
    {
     "name": "stdin",
     "output_type": "stream",
     "text": [
      "Choose an option:  1\n",
      "Enter directory to search C:\\Users\\jermy\\Downloads\n"
     ]
    },
    {
     "name": "stdout",
     "output_type": "stream",
     "text": [
      "no\n",
      "\n",
      "--- File Duplicate Finder ---\n",
      "1. Enter directory to search\n",
      "2. Exit\n"
     ]
    },
    {
     "name": "stdin",
     "output_type": "stream",
     "text": [
      "Choose an option:  2\n"
     ]
    }
   ],
   "source": [
    "import os\n",
    "import hashlib\n",
    "filesdictionary = {}\n",
    "def menu():\n",
    "    \n",
    "    while True:\n",
    "        print(\"\\n--- File Duplicate Finder ---\")\n",
    "        print(\"1. Enter directory to search\")\n",
    "        print(\"2. Exit\")\n",
    "        choice = int(input(\"Choose an option: \"))\n",
    "        if choice == 1:\n",
    "            \n",
    "            try:\n",
    "                find_duplicates(input(\"Enter directory to search\"))\n",
    "            except:\n",
    "                print(\"no\")\n",
    "        if choice == 2:\n",
    "            break\n",
    "\n",
    "def find_duplicates(directory):\n",
    "    # search os.walk(directory):\n",
    "    for root, _, files in os.walk(directory):\n",
    "        for file in files:\n",
    "            if file in filesdictionary:\n",
    "                print(f'there are one or more duplicates in {file}')\n",
    "            #print(f\"checking {file} in {root}\")\n",
    "            file_path = os.path.join(root,file)\n",
    "            #print(get_checksum(file_path))\n",
    "            filesdictionary.update({file:get_checksum(file_path)})\n",
    "            \n",
    "    \n",
    "    \n",
    "            \n",
    "    # use a dictionary to store file names and paths\n",
    "    # compare files with the same name\n",
    "\n",
    "def get_checksum(file_path):\n",
    "    hash_obj = hashlib.md5()  # Change to hashlib.sha256() if desired\n",
    "    with open(file_path, 'rb') as f:\n",
    "        while chunk := f.read(8192):\n",
    "            hash_obj.update(chunk)\n",
    "    return hash_obj.hexdigest()\n",
    "\n",
    "\n",
    "if __name__ == \"__main__\":\n",
    "    menu()"
   ]
  },
  {
   "cell_type": "code",
   "execution_count": null,
   "metadata": {},
   "outputs": [],
   "source": [
    "# help(os.walk)\n",
    "# C:\\Users\\jermy\\Downloads\\lab7folder"
   ]
  },
  {
   "cell_type": "code",
   "execution_count": null,
   "metadata": {},
   "outputs": [],
   "source": [
    "print(\"listing text file:\")\n",
    "for dirpath, dirnames, filenames in os.walk('C:/Users/jermy/Downloads/lab7folder'):\n",
    "    for filename in filenames:\n",
    "        if filename.endswith(\".txt\"):\n",
    "            print(filename)"
   ]
  },
  {
   "cell_type": "code",
   "execution_count": 6,
   "metadata": {},
   "outputs": [
    {
     "name": "stdout",
     "output_type": "stream",
     "text": [
      "{}\n"
     ]
    }
   ],
   "source": [
    "print(filesdictionary)\n"
   ]
  },
  {
   "cell_type": "code",
   "execution_count": null,
   "metadata": {},
   "outputs": [],
   "source": []
  },
  {
   "cell_type": "code",
   "execution_count": null,
   "metadata": {},
   "outputs": [],
   "source": []
  }
 ],
 "metadata": {
  "kernelspec": {
   "display_name": "Python 3 (ipykernel)",
   "language": "python",
   "name": "python3"
  },
  "language_info": {
   "codemirror_mode": {
    "name": "ipython",
    "version": 3
   },
   "file_extension": ".py",
   "mimetype": "text/x-python",
   "name": "python",
   "nbconvert_exporter": "python",
   "pygments_lexer": "ipython3",
   "version": "3.13.1"
  }
 },
 "nbformat": 4,
 "nbformat_minor": 4
}
