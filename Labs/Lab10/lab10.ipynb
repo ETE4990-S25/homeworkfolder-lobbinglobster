{
 "cells": [
  {
   "cell_type": "markdown",
   "id": "a3e125a6-1a60-4b1d-93f9-bedb4ec7ca21",
   "metadata": {},
   "source": [
    "Jeremy Esperanza"
   ]
  },
  {
   "cell_type": "code",
   "execution_count": 8,
   "id": "ef039cb5-e73d-45c5-89ea-505d609964cc",
   "metadata": {},
   "outputs": [
    {
     "name": "stdout",
     "output_type": "stream",
     "text": [
      "Docker version: 27.5.1\n"
     ]
    }
   ],
   "source": [
    "import docker\n",
    "\n",
    "client = docker.from_env()\n",
    "\n",
    "print(\"Docker version:\", client.version()['Version'])\n"
   ]
  },
  {
   "cell_type": "code",
   "execution_count": 4,
   "id": "5166fae3-3f59-4b8f-814a-f0058cea6fee",
   "metadata": {},
   "outputs": [
    {
     "name": "stdout",
     "output_type": "stream",
     "text": [
      "nginx - running\n",
      "sad_shockley - created\n",
      "sad_austin - exited\n",
      "tender_moore - exited\n"
     ]
    }
   ],
   "source": [
    "def list_running_containers():\n",
    "    containers = client.containers.list(all=True)# list all containers\n",
    "    #containers = client.containers.list() #list only running containers\n",
    "    for container in containers:\n",
    "        print(f\"{container.name} - {container.status}\")\n",
    "\n",
    "list_running_containers()"
   ]
  },
  {
   "cell_type": "code",
   "execution_count": 5,
   "id": "6fac157a-3aba-451a-b7ae-b145fd54828c",
   "metadata": {},
   "outputs": [
    {
     "name": "stdout",
     "output_type": "stream",
     "text": [
      "d66df76340fec782c36b30b689bd5c5bb1f84df57dd48a2dbc90123a7cc3ba07"
     ]
    },
    {
     "name": "stderr",
     "output_type": "stream",
     "text": [
      "Unable to find image 'mysql:8' locally\n",
      "8: Pulling from library/mysql\n",
      "cea172a6e83b: Pulling fs layer\n",
      "6c228f7bea3b: Pulling fs layer\n",
      "290ec4c227a4: Pulling fs layer\n",
      "cb416885cc1f: Pulling fs layer\n",
      "10eaa68c5921: Pulling fs layer\n",
      "07e8f079852f: Pulling fs layer\n",
      "d1e5287da18a: Pulling fs layer\n",
      "aad4571eacc0: Pulling fs layer\n",
      "182039f5bee3: Pulling fs layer\n",
      "b3dd4e5cd318: Pulling fs layer\n",
      "cb416885cc1f: Waiting\n",
      "10eaa68c5921: Waiting\n",
      "07e8f079852f: Waiting\n",
      "182039f5bee3: Waiting\n",
      "d1e5287da18a: Waiting\n",
      "b3dd4e5cd318: Waiting\n",
      "aad4571eacc0: Waiting\n",
      "6c228f7bea3b: Download complete\n",
      "290ec4c227a4: Verifying Checksum\n",
      "290ec4c227a4: Download complete\n",
      "10eaa68c5921: Verifying Checksum\n",
      "10eaa68c5921: Download complete\n",
      "07e8f079852f: Verifying Checksum\n",
      "07e8f079852f: Download complete\n",
      "cb416885cc1f: Verifying Checksum\n",
      "cb416885cc1f: Download complete\n",
      "aad4571eacc0: Verifying Checksum\n",
      "aad4571eacc0: Download complete\n",
      "d1e5287da18a: Verifying Checksum\n",
      "d1e5287da18a: Download complete\n",
      "b3dd4e5cd318: Download complete\n",
      "cea172a6e83b: Verifying Checksum\n",
      "cea172a6e83b: Download complete\n",
      "cea172a6e83b: Pull complete\n",
      "6c228f7bea3b: Pull complete\n",
      "290ec4c227a4: Pull complete\n",
      "cb416885cc1f: Pull complete\n",
      "10eaa68c5921: Pull complete\n",
      "07e8f079852f: Pull complete\n",
      "d1e5287da18a: Pull complete\n",
      "aad4571eacc0: Pull complete\n",
      "182039f5bee3: Verifying Checksum\n",
      "182039f5bee3: Download complete\n",
      "182039f5bee3: Pull complete\n",
      "b3dd4e5cd318: Pull complete\n",
      "Digest: sha256:3a89257a3a979e46e3650628bea227a6bc318a2bdc95f954489ec89573a4c6a2\n",
      "Status: Downloaded newer image for mysql:8\n"
     ]
    },
    {
     "name": "stdout",
     "output_type": "stream",
     "text": [
      "\n"
     ]
    }
   ],
   "source": [
    "!docker run -d --name mysql -p 3306:3306 -e MYSQL_ROOT_PASSWORD=1 mysql:8"
   ]
  },
  {
   "cell_type": "code",
   "execution_count": 6,
   "id": "34f0efd8-8009-495e-8758-e1c7c048551b",
   "metadata": {},
   "outputs": [
    {
     "name": "stdout",
     "output_type": "stream",
     "text": [
      "------------------------------\n"
     ]
    },
    {
     "ename": "NameError",
     "evalue": "name 'show_container_ip' is not defined",
     "output_type": "error",
     "traceback": [
      "\u001b[1;31m---------------------------------------------------------------------------\u001b[0m",
      "\u001b[1;31mNameError\u001b[0m                                 Traceback (most recent call last)",
      "Cell \u001b[1;32mIn[6], line 2\u001b[0m\n\u001b[0;32m      1\u001b[0m \u001b[38;5;28mprint\u001b[39m(\u001b[38;5;124m\"\u001b[39m\u001b[38;5;124m-\u001b[39m\u001b[38;5;124m\"\u001b[39m\u001b[38;5;241m*\u001b[39m\u001b[38;5;241m30\u001b[39m)\n\u001b[1;32m----> 2\u001b[0m \u001b[43mshow_container_ip\u001b[49m(\u001b[38;5;124m\"\u001b[39m\u001b[38;5;124mmysql\u001b[39m\u001b[38;5;124m\"\u001b[39m)\n",
      "\u001b[1;31mNameError\u001b[0m: name 'show_container_ip' is not defined"
     ]
    }
   ],
   "source": [
    "print(\"-\"*30)\n",
    "show_container_ip(\"mysql\")"
   ]
  },
  {
   "cell_type": "code",
   "execution_count": 9,
   "id": "aadb59f0-fc0c-4ffe-9171-fabc0ea8b5c3",
   "metadata": {},
   "outputs": [
    {
     "name": "stderr",
     "output_type": "stream",
     "text": [
      "'grep' is not recognized as an internal or external command,\n",
      "operable program or batch file.\n"
     ]
    }
   ],
   "source": [
    "!docker inspect mysql | grep -n1 \"IPAddress\\\":\""
   ]
  },
  {
   "cell_type": "code",
   "execution_count": 10,
   "id": "0f0c02e3-fde0-4626-9b3d-0e6d2f37fa51",
   "metadata": {},
   "outputs": [
    {
     "name": "stdout",
     "output_type": "stream",
     "text": [
      "adminer - running\n",
      "mysql - running\n",
      "nginx - running\n",
      "sad_shockley - created\n",
      "sad_austin - exited\n",
      "tender_moore - exited\n",
      "Waiting for adminer to stop...\n"
     ]
    },
    {
     "ename": "KeyboardInterrupt",
     "evalue": "",
     "output_type": "error",
     "traceback": [
      "\u001b[1;31m---------------------------------------------------------------------------\u001b[0m",
      "\u001b[1;31mKeyboardInterrupt\u001b[0m                         Traceback (most recent call last)",
      "Cell \u001b[1;32mIn[10], line 20\u001b[0m\n\u001b[0;32m     16\u001b[0m             container\u001b[38;5;241m.\u001b[39mremove()\n\u001b[0;32m     18\u001b[0m list_running_containers()\n\u001b[1;32m---> 20\u001b[0m \u001b[43mclean_containers\u001b[49m\u001b[43m(\u001b[49m\u001b[43m)\u001b[49m\n",
      "Cell \u001b[1;32mIn[10], line 10\u001b[0m, in \u001b[0;36mclean_containers\u001b[1;34m()\u001b[0m\n\u001b[0;32m      8\u001b[0m container\u001b[38;5;241m.\u001b[39mstop()\n\u001b[0;32m      9\u001b[0m \u001b[38;5;28mprint\u001b[39m(\u001b[38;5;124mf\u001b[39m\u001b[38;5;124m\"\u001b[39m\u001b[38;5;124mWaiting for \u001b[39m\u001b[38;5;132;01m{\u001b[39;00mcontainer\u001b[38;5;241m.\u001b[39mname\u001b[38;5;132;01m}\u001b[39;00m\u001b[38;5;124m to stop...\u001b[39m\u001b[38;5;124m\"\u001b[39m)\n\u001b[1;32m---> 10\u001b[0m \u001b[38;5;28;01mwhile\u001b[39;00m \u001b[43mcontainer\u001b[49m\u001b[38;5;241;43m.\u001b[39;49m\u001b[43mstatus\u001b[49m \u001b[38;5;241m!=\u001b[39m \u001b[38;5;124m'\u001b[39m\u001b[38;5;124mexited\u001b[39m\u001b[38;5;124m'\u001b[39m:\n\u001b[0;32m     11\u001b[0m     \u001b[38;5;28;01mpass\u001b[39;00m\n\u001b[0;32m     13\u001b[0m container\u001b[38;5;241m.\u001b[39mreload()\n",
      "File \u001b[1;32m~\\AppData\\Local\\Programs\\Python\\Python313\\Lib\\site-packages\\docker\\models\\containers.py:60\u001b[0m, in \u001b[0;36mContainer.status\u001b[1;34m(self)\u001b[0m\n\u001b[0;32m     54\u001b[0m     \u001b[38;5;28;01mexcept\u001b[39;00m \u001b[38;5;167;01mKeyError\u001b[39;00m \u001b[38;5;28;01mas\u001b[39;00m ke:\n\u001b[0;32m     55\u001b[0m         \u001b[38;5;28;01mraise\u001b[39;00m DockerException(\n\u001b[0;32m     56\u001b[0m             \u001b[38;5;124m'\u001b[39m\u001b[38;5;124mLabel data is not available for sparse objects. Call reload()\u001b[39m\u001b[38;5;124m'\u001b[39m\n\u001b[0;32m     57\u001b[0m             \u001b[38;5;124m'\u001b[39m\u001b[38;5;124m to retrieve all information\u001b[39m\u001b[38;5;124m'\u001b[39m\n\u001b[0;32m     58\u001b[0m         ) \u001b[38;5;28;01mfrom\u001b[39;00m\u001b[38;5;250m \u001b[39m\u001b[38;5;21;01mke\u001b[39;00m\n\u001b[1;32m---> 60\u001b[0m \u001b[38;5;129m@property\u001b[39m\n\u001b[0;32m     61\u001b[0m \u001b[38;5;28;01mdef\u001b[39;00m\u001b[38;5;250m \u001b[39m\u001b[38;5;21mstatus\u001b[39m(\u001b[38;5;28mself\u001b[39m):\n\u001b[0;32m     62\u001b[0m \u001b[38;5;250m    \u001b[39m\u001b[38;5;124;03m\"\"\"\u001b[39;00m\n\u001b[0;32m     63\u001b[0m \u001b[38;5;124;03m    The status of the container. For example, ``running``, or ``exited``.\u001b[39;00m\n\u001b[0;32m     64\u001b[0m \u001b[38;5;124;03m    \"\"\"\u001b[39;00m\n\u001b[0;32m     65\u001b[0m     \u001b[38;5;28;01mif\u001b[39;00m \u001b[38;5;28misinstance\u001b[39m(\u001b[38;5;28mself\u001b[39m\u001b[38;5;241m.\u001b[39mattrs[\u001b[38;5;124m'\u001b[39m\u001b[38;5;124mState\u001b[39m\u001b[38;5;124m'\u001b[39m], \u001b[38;5;28mdict\u001b[39m):\n",
      "\u001b[1;31mKeyboardInterrupt\u001b[0m: "
     ]
    }
   ],
   "source": [
    "def clean_containers():\n",
    "    containers = client.containers.list(all=True)\n",
    "    if not containers:\n",
    "        print(\"No containers to clean.\")\n",
    "        return\n",
    "    \n",
    "    for container in containers:\n",
    "        container.stop()\n",
    "        print(f\"Waiting for {container.name} to stop...\")\n",
    "        while container.status != 'exited':\n",
    "            pass\n",
    "        \n",
    "        container.reload()\n",
    "        if container.status == 'exited':\n",
    "            print(f\"Removing {container.name}\")\n",
    "            container.remove()\n",
    "\n",
    "list_running_containers()\n",
    "\n",
    "clean_containers()"
   ]
  },
  {
   "cell_type": "code",
   "execution_count": 11,
   "id": "9d952f2b-37de-450b-ab06-e2ded0bc069e",
   "metadata": {},
   "outputs": [
    {
     "name": "stdout",
     "output_type": "stream",
     "text": [
      "8a1ef258b5235d601c710f250709538d11f7593c0d186067a90ec072aa15e9ca\n"
     ]
    }
   ],
   "source": [
    "!docker network create yourNetwork"
   ]
  },
  {
   "cell_type": "code",
   "execution_count": 12,
   "id": "5cc43597-88fc-4a5c-8cfe-168e1fc28cd1",
   "metadata": {},
   "outputs": [
    {
     "name": "stdout",
     "output_type": "stream",
     "text": [
      "[\n",
      "    {\n",
      "        \"Name\": \"yourNetwork\",\n",
      "        \"Id\": \"8a1ef258b5235d601c710f250709538d11f7593c0d186067a90ec072aa15e9ca\",\n",
      "        \"Created\": \"2025-04-19T04:17:37.985651371Z\",\n",
      "        \"Scope\": \"local\",\n",
      "        \"Driver\": \"bridge\",\n",
      "        \"EnableIPv6\": false,\n",
      "        \"IPAM\": {\n",
      "            \"Driver\": \"default\",\n",
      "            \"Options\": {},\n",
      "            \"Config\": [\n",
      "                {\n",
      "                    \"Subnet\": \"172.18.0.0/16\",\n",
      "                    \"Gateway\": \"172.18.0.1\"\n",
      "                }\n",
      "            ]\n",
      "        },\n",
      "        \"Internal\": false,\n",
      "        \"Attachable\": false,\n",
      "        \"Ingress\": false,\n",
      "        \"ConfigFrom\": {\n",
      "            \"Network\": \"\"\n",
      "        },\n",
      "        \"ConfigOnly\": false,\n",
      "        \"Containers\": {},\n",
      "        \"Options\": {},\n",
      "        \"Labels\": {}\n",
      "    }\n",
      "]\n"
     ]
    }
   ],
   "source": [
    "!docker network inspect yourNetwork"
   ]
  },
  {
   "cell_type": "code",
   "execution_count": 13,
   "id": "1c6c9c0e-d3a2-467f-b7ec-7009ada2268a",
   "metadata": {},
   "outputs": [],
   "source": [
    "#create script that gets ip addresses\n",
    "#relaunch containter\n",
    "\n"
   ]
  },
  {
   "cell_type": "code",
   "execution_count": 14,
   "id": "500a17b4-c220-451b-9571-5c0052bf73d9",
   "metadata": {},
   "outputs": [
    {
     "name": "stdout",
     "output_type": "stream",
     "text": [
      "mysql in network 'bridge' has IP: 172.17.0.2\n",
      "adminer in network 'bridge' has IP: 172.17.0.3\n"
     ]
    }
   ],
   "source": [
    "def show_container_ip(container_name):\n",
    "    container = client.containers.get(container_name)\n",
    "    networks = container.attrs['NetworkSettings']['Networks']\n",
    "    \n",
    "    for net_name, net_data in networks.items():\n",
    "        print(f\"{container_name} in network '{net_name}' has IP: {net_data['IPAddress']}\")\n",
    "\n",
    "\n",
    "show_container_ip(\"mysql\")\n",
    "show_container_ip(\"adminer\")"
   ]
  },
  {
   "cell_type": "code",
   "execution_count": 15,
   "id": "d3b661f2-6f7c-4f25-a202-349928db8aee",
   "metadata": {},
   "outputs": [
    {
     "name": "stdout",
     "output_type": "stream",
     "text": [
      "67b5b24876e44cb2470504372bc048d4867ce02bbee80cf278361affe3c6bb59\n",
      "d66df76340fec782c36b30b689bd5c5bb1f84df57dd48a2dbc90123a7cc3ba07\n"
     ]
    }
   ],
   "source": [
    "\n",
    "client = docker.from_env()\n",
    "for container in client.containers.list():\n",
    "  print(container.id)"
   ]
  },
  {
   "cell_type": "code",
   "execution_count": 16,
   "id": "3fdc9fd3-6ec4-4c9b-ac8f-d90ab2c74a85",
   "metadata": {},
   "outputs": [],
   "source": [
    "client = docker.from_env()\n",
    "for container in client.containers.list():\n",
    "  container.stop()"
   ]
  },
  {
   "cell_type": "code",
   "execution_count": 21,
   "id": "0acbe804-136b-441e-b781-7405d6fa89be",
   "metadata": {},
   "outputs": [
    {
     "name": "stdout",
     "output_type": "stream",
     "text": [
      "vibrant_cori - exited\n",
      "adminer - exited\n",
      "mysql - exited\n",
      "nginx - exited\n",
      "sad_shockley - created\n",
      "sad_austin - exited\n",
      "tender_moore - exited\n"
     ]
    }
   ],
   "source": [
    "def list_running_containers():\n",
    "    containers = client.containers.list(all=True)# list all containers\n",
    "    #containers = client.containers.list() #list only running containers\n",
    "    for container in containers:\n",
    "        print(f\"{container.name} - {container.status}\")\n",
    "\n",
    "list_running_containers()"
   ]
  },
  {
   "cell_type": "code",
   "execution_count": 26,
   "id": "bc660831-4988-4ad0-94df-4dd19dbf0bda",
   "metadata": {},
   "outputs": [
    {
     "data": {
      "text/plain": [
       "<Container: 756bd9bdf37b>"
      ]
     },
     "execution_count": 26,
     "metadata": {},
     "output_type": "execute_result"
    }
   ],
   "source": [
    "client = docker.from_env()\n",
    "client.containers.run(\"adminer\", detach=True)"
   ]
  },
  {
   "cell_type": "code",
   "execution_count": 23,
   "id": "b19c29ef-6d19-4d88-8079-4966ca85f249",
   "metadata": {},
   "outputs": [
    {
     "name": "stderr",
     "output_type": "stream",
     "text": [
      "docker: Error response from daemon: Conflict. The container name \"/adminer\" is already in use by container \"67b5b24876e44cb2470504372bc048d4867ce02bbee80cf278361affe3c6bb59\". You have to remove (or rename) that container to be able to reuse that name.\n",
      "See 'docker run --help'.\n"
     ]
    }
   ],
   "source": [
    "!docker run -d --network yourNetwork --name adminer -p 8080:8080 adminer"
   ]
  },
  {
   "cell_type": "code",
   "execution_count": 28,
   "id": "3d74de81-82b1-49f2-89a3-03f56aec34ce",
   "metadata": {},
   "outputs": [
    {
     "ename": "AttributeError",
     "evalue": "'DockerClient' object has no attribute 'get' In Docker SDK for Python 2.0, this method is now on the object APIClient. See the low-level API section of the documentation for more details.",
     "output_type": "error",
     "traceback": [
      "\u001b[1;31m---------------------------------------------------------------------------\u001b[0m",
      "\u001b[1;31mAttributeError\u001b[0m                            Traceback (most recent call last)",
      "Cell \u001b[1;32mIn[28], line 1\u001b[0m\n\u001b[1;32m----> 1\u001b[0m \u001b[43mclient\u001b[49m\u001b[38;5;241;43m.\u001b[39;49m\u001b[43mget\u001b[49m(\u001b[38;5;124m\"\u001b[39m\u001b[38;5;124m67b5b24876e44cb2470504372bc048d4867ce02bbee80cf278361affe3c6bb59\u001b[39m\u001b[38;5;124m\"\u001b[39m)\n",
      "File \u001b[1;32m~\\AppData\\Local\\Programs\\Python\\Python313\\Lib\\site-packages\\docker\\client.py:219\u001b[0m, in \u001b[0;36mDockerClient.__getattr__\u001b[1;34m(self, name)\u001b[0m\n\u001b[0;32m    215\u001b[0m \u001b[38;5;28;01mif\u001b[39;00m \u001b[38;5;28mhasattr\u001b[39m(APIClient, name):\n\u001b[0;32m    216\u001b[0m     s\u001b[38;5;241m.\u001b[39mappend(\u001b[38;5;124m\"\u001b[39m\u001b[38;5;124mIn Docker SDK for Python 2.0, this method is now on the \u001b[39m\u001b[38;5;124m\"\u001b[39m\n\u001b[0;32m    217\u001b[0m              \u001b[38;5;124m\"\u001b[39m\u001b[38;5;124mobject APIClient. See the low-level API section of the \u001b[39m\u001b[38;5;124m\"\u001b[39m\n\u001b[0;32m    218\u001b[0m              \u001b[38;5;124m\"\u001b[39m\u001b[38;5;124mdocumentation for more details.\u001b[39m\u001b[38;5;124m\"\u001b[39m)\n\u001b[1;32m--> 219\u001b[0m \u001b[38;5;28;01mraise\u001b[39;00m \u001b[38;5;167;01mAttributeError\u001b[39;00m(\u001b[38;5;124m'\u001b[39m\u001b[38;5;124m \u001b[39m\u001b[38;5;124m'\u001b[39m\u001b[38;5;241m.\u001b[39mjoin(s))\n",
      "\u001b[1;31mAttributeError\u001b[0m: 'DockerClient' object has no attribute 'get' In Docker SDK for Python 2.0, this method is now on the object APIClient. See the low-level API section of the documentation for more details."
     ]
    }
   ],
   "source": [
    "client.get(\"67b5b24876e44cb2470504372bc048d4867ce02bbee80cf278361affe3c6bb59\")"
   ]
  },
  {
   "cell_type": "code",
   "execution_count": 43,
   "id": "d082bbcf-1de9-42ff-8795-e6448dc9bd19",
   "metadata": {},
   "outputs": [
    {
     "name": "stdout",
     "output_type": "stream",
     "text": [
      "Active ID:67b5b24876e44cb2470504372bc048d4867ce02bbee80cf278361affe3c6bb59\n",
      "Active ID:d66df76340fec782c36b30b689bd5c5bb1f84df57dd48a2dbc90123a7cc3ba07\n"
     ]
    }
   ],
   "source": [
    "for container in client.containers.list():\n",
    "    print(f\"Active ID:{container.id}\")\n",
    "    container.stop()\n",
    "    "
   ]
  },
  {
   "cell_type": "code",
   "execution_count": 33,
   "id": "a145d84f-c56e-42e7-8d52-2febcaac6c92",
   "metadata": {},
   "outputs": [
    {
     "name": "stdout",
     "output_type": "stream",
     "text": [
      "adminer - exited\n",
      "mysql - exited\n"
     ]
    }
   ],
   "source": [
    "def list_running_containers():\n",
    "    containers = client.containers.list(all=True)# list all containers\n",
    "    #containers = client.containers.list() #list only running containers\n",
    "    for container in containers:\n",
    "        print(f\"{container.name} - {container.status}\")\n",
    "        \n",
    "list_running_containers()"
   ]
  },
  {
   "cell_type": "code",
   "execution_count": 41,
   "id": "52c9f419-ed41-43d6-ae27-8423359b1dbe",
   "metadata": {},
   "outputs": [],
   "source": [
    "def restart_containers():\n",
    "    containers = client.containers.list(all=True)\n",
    "    for container in containers:\n",
    "        print(container.name)\n",
    "        container.start()"
   ]
  },
  {
   "cell_type": "code",
   "execution_count": 45,
   "id": "5c5bea29-8fbd-42dd-a06a-a00cae407abb",
   "metadata": {},
   "outputs": [
    {
     "name": "stdout",
     "output_type": "stream",
     "text": [
      "adminer\n",
      "mysql\n"
     ]
    }
   ],
   "source": [
    "restart_containers()"
   ]
  },
  {
   "cell_type": "code",
   "execution_count": null,
   "id": "77905e8f-4a81-452d-847a-88787c963690",
   "metadata": {},
   "outputs": [],
   "source": []
  }
 ],
 "metadata": {
  "kernelspec": {
   "display_name": "Python 3 (ipykernel)",
   "language": "python",
   "name": "python3"
  },
  "language_info": {
   "codemirror_mode": {
    "name": "ipython",
    "version": 3
   },
   "file_extension": ".py",
   "mimetype": "text/x-python",
   "name": "python",
   "nbconvert_exporter": "python",
   "pygments_lexer": "ipython3",
   "version": "3.13.1"
  }
 },
 "nbformat": 4,
 "nbformat_minor": 5
}
