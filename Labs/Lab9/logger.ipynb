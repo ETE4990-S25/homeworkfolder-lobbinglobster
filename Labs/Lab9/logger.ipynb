{
 "cells": [
  {
   "cell_type": "code",
   "execution_count": 1,
   "id": "4870efe5",
   "metadata": {},
   "outputs": [],
   "source": [
    "import logging\n",
    "#establish loggers\n",
    "critlog = logging.getLogger(\"crit_logger\")\n",
    "errlog = logging.getLogger(\"error_logger\")\n",
    "warnlog = logging.getLogger(\"warning_logger\")\n",
    "infolog = logging.getLogger(\"info_logger\")\n",
    "log1 = logging.getLogger(\"timmy.pyt\")\n",
    "\n",
    "#set logger levels\n",
    "critlog.setLevel(logging.CRITICAL)\n",
    "errlog.setLevel(logging.ERROR)\n",
    "warnlog.setLevel(logging.WARNING)\n",
    "infolog.setLevel(logging.INFO)\n",
    "log1.setLevel(logging.ERROR)\n",
    "\n",
    "#establish format\n",
    "formatter = logging.Formatter(\n",
    "    fmt=(\n",
    "        \"%(asctime)s | %(name)s |%(levelname)s | \"\n",
    "        \"%(message)s\"\n",
    "    )\n",
    ")\n",
    "\n",
    "#create handlers\n",
    "handler1 = logging.handlers.TimedRotatingFileHandler(\n",
    "    filename = \"log1.log\",\n",
    "    when = \"D\",\n",
    "    backupCount=3,\n",
    ")\n",
    "#error handler\n",
    "# errhandler = logging.handlers.TimedRotatingFileHandler(\n",
    "#     filename = \"log1.log\",\n",
    "#     when = \"D\",\n",
    "#     backupCount=3,\n",
    "# )\n",
    "# #warning handler\n",
    "# warnhandler = logging.handlers.TimedRotatingFileHandler(\n",
    "#     filename = \"log1.log\",\n",
    "#     when = \"D\",\n",
    "#     backupCount=3,\n",
    "# )\n",
    "# #Info handler\n",
    "# infohandler = logging.handlers.TimedRotatingFileHandler(\n",
    "#     filename = \"log1.log\",\n",
    "#     when = \"D\",\n",
    "#     backupCount=3,\n",
    "# )\n",
    "\n",
    "#assign formats\n",
    "# crithandler.setFormatter(formatter)\n",
    "# errhandler.setFormatter(formatter)\n",
    "# warnhandler.setFormatter(formatter)\n",
    "# infohandler.setFormatter(formatter)\n",
    "handler1.setFormatter(formatter)\n",
    "\n",
    "#add handlers to loggers\n",
    "critlog.addHandler(handler1)\n",
    "errlog.addHandler(handler1)\n",
    "warnlog.addHandler(handler1)\n",
    "infolog.addHandler(handler1)\n",
    "log1.addHandler(handler1)"
   ]
  },
  {
   "cell_type": "code",
   "execution_count": 2,
   "id": "962b63bc",
   "metadata": {},
   "outputs": [],
   "source": [
    "critlog.critical(f\"infinite loop\")\n",
    "errlog.error(f\"object does not exist\")\n",
    "warnlog.warning(f\"var is not initialized\")\n",
    "infolog.info(f\"data sent\")\n",
    "log1.error(f\"timmy process does not exist\")"
   ]
  },
  {
   "cell_type": "code",
   "execution_count": null,
   "id": "6763d177",
   "metadata": {},
   "outputs": [
    {
     "name": "stdout",
     "output_type": "stream",
     "text": [
      "<re.Match object; span=(39, 47), match='CRITICAL'>\n",
      "None\n",
      "None\n",
      "None\n",
      "None\n",
      "<re.Match object; span=(40, 45), match='ERROR'>\n",
      "None\n",
      "None\n",
      "None\n",
      "None\n",
      "<re.Match object; span=(42, 49), match='WARNING'>\n",
      "None\n",
      "None\n",
      "None\n",
      "None\n",
      "<re.Match object; span=(39, 43), match='INFO'>\n",
      "None\n",
      "<re.Match object; span=(37, 42), match='ERROR'>\n",
      "None\n",
      "None\n"
     ]
    }
   ],
   "source": [
    "import re\n",
    "filepath = r\"C:\\Users\\jermy\\gitrepo4990\\homeworkfolder-lobbinglobster\\Labs\\Lab9\\log1.log\"\n",
    "categories = [\"CRITICAL\", \"ERROR\", \"WARNING\", \"INFO\"]\n",
    "ex = []\n",
    "with open(filepath) as f:\n",
    "    f = f.readlines()   \n",
    "\n",
    "for line in f:\n",
    "    for i in categories:\n",
    "        dog = re.findall(i, line)\n",
    "\n",
    "        print(dog)"
   ]
  },
  {
   "cell_type": "code",
   "execution_count": null,
   "id": "3036d5c6",
   "metadata": {},
   "outputs": [],
   "source": []
  }
 ],
 "metadata": {
  "kernelspec": {
   "display_name": "Python 3",
   "language": "python",
   "name": "python3"
  },
  "language_info": {
   "codemirror_mode": {
    "name": "ipython",
    "version": 3
   },
   "file_extension": ".py",
   "mimetype": "text/x-python",
   "name": "python",
   "nbconvert_exporter": "python",
   "pygments_lexer": "ipython3",
   "version": "3.13.1"
  }
 },
 "nbformat": 4,
 "nbformat_minor": 5
}
