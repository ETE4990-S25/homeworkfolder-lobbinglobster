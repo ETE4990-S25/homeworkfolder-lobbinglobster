{
 "cells": [
  {
   "cell_type": "code",
   "execution_count": 1,
   "id": "9459cfd1-e84d-43f1-8622-0122c854c70b",
   "metadata": {},
   "outputs": [
    {
     "name": "stdout",
     "output_type": "stream",
     "text": [
      "Collecting xmltodict\n",
      "  Downloading xmltodict-0.14.2-py2.py3-none-any.whl.metadata (8.0 kB)\n",
      "Downloading xmltodict-0.14.2-py2.py3-none-any.whl (10.0 kB)\n",
      "Installing collected packages: xmltodict\n",
      "Successfully installed xmltodict-0.14.2\n"
     ]
    },
    {
     "name": "stderr",
     "output_type": "stream",
     "text": [
      "\n",
      "[notice] A new release of pip is available: 25.0.1 -> 25.1.1\n",
      "[notice] To update, run: c:\\Users\\jermy\\AppData\\Local\\Programs\\Python\\Python313\\python.exe -m pip install --upgrade pip\n"
     ]
    }
   ],
   "source": [
    "!pip install xmltodict"
   ]
  },
  {
   "cell_type": "markdown",
   "id": "2f6e6ce6-3f4f-4c45-a0ed-3b20f195ce7d",
   "metadata": {},
   "source": [
    "Jeremy Esperanza\n",
    "-\n",
    "#1 - Retrieve historical exchange data from floatrates.com for one of the 52 available currencies\n",
    "- Store code in XML or JSON\n",
    "- Organize each currency into its own directory (?)\n",
    "- Ensure code is modular, maintainable, robust against timeouts or malformed entries\n",
    "\n",
    "Provided code obtains a random exchange rate for a single currency against all other currencies.\n",
    "Example code was run first, taken apart and placed into multiple functions with some modification.\n",
    "The code is able to generate a JSON file when run in Jupyter Notebook, but fails to do so in the Python file \n",
    "despite running normally.\n",
    "\n"
   ]
  },
  {
   "cell_type": "code",
   "execution_count": 12,
   "id": "bfd8f50c-1158-4d97-8817-4de98f77fdaa",
   "metadata": {},
   "outputs": [],
   "source": [
    "#initial variables and imports from example\n",
    "rates = [\"EUR\", \"GBP\", \"USD\", \"DZD\", \"AUD\", \"BWP\", \"BND\", \"CAD\", \"CLP\", \"CNY\", \"COP\", \"CZK\", \"DKK\", \"HUF\", \"ISK\", \"INR\", \"IDR\", \"ILS\", \"KZT\", \"KRW\", \"KWD\", \"LYD\", \"MYR\", \"MUR\", \"NPR\", \"NZD\", \"NOK\", \"OMR\", \"PKR\", \"PLN\", \"QAR\", \"RUB\", \"SAR\", \"SGD\", \"ZAR\", \"LKR\", \"SEK\", \"CHF\", \"THB\", \"TTD\"]\n",
    "ratesForBase = [r for r in rates if r != \"USD\" and r != \"EUR\" and r != \"GBP\"]\n",
    "import requests\n",
    "import xmltodict\n",
    "import json\n",
    "import random\n",
    "import threading\n",
    "import time\n",
    "import pandas as pd\n",
    "import numpy as np\n",
    "import seaborn as sns"
   ]
  },
  {
   "cell_type": "code",
   "execution_count": null,
   "id": "82f26347-c02e-4f36-b1f5-787777b6d113",
   "metadata": {},
   "outputs": [],
   "source": [
    "#create list using randomly selected currencies - unused\n",
    "def create_currencylist():\n",
    "    crlist = []\n",
    "    for i in range(5):\n",
    "        temp = random.choice(ratesForBase)\n",
    "        crlist.append(temp)\n",
    "    print(crlist)\n",
    "    return crlist\n",
    "\n",
    "#obtain json of a currency\n",
    "def obtainCurrencyRates(currency):\n",
    "    if currency not in ratesForBase:\n",
    "        return \"invalid currency input\"\n",
    "    else:\n",
    "        #code below is taken from example\n",
    "        date = \"2011-05-04\"\n",
    "        base = currency\n",
    "        url = f\"https://www.floatrates.com/historical-exchange-rates.html?operation=rates&pb_id=1775&page=historical&currency_date={date}&base_currency_code={base}&format_type=xml\"\n",
    "        print(url)\n",
    "        # Fetch the XML data\n",
    "        response = requests.get(url)\n",
    "        response.raise_for_status()  # Ensure we notice bad responses\n",
    "        \n",
    "        # Parse the XML data to a Python dictionary\n",
    "        data_dict = xmltodict.parse(response.text)\n",
    "        \n",
    "        # Convert the dictionary to a JSON string\n",
    "        json_data = json.dumps(data_dict, indent=4)\n",
    "        \n",
    "        # Print the JSON data\n",
    "        print(json_data)\n",
    "        \n",
    "        # Optionally, write the JSON data to a file\n",
    "        with open(f\"{date}_exchange_rates_{base}.json\", \"w\") as json_file:\n",
    "            json_file.write(json_data)\n",
    "\n",
    "\n",
    "        \n",
    "    \n",
    "#implement threads\n",
    "def currency_threads(inputlist):\n",
    "    threads = []\n",
    "    for i in inputlist:\n",
    "        thread = threading.Thread(target = obtainCurrencyRates, args = (i,))\n",
    "        threads.append(thread)\n",
    "    print (threads)\n",
    "    for i in threads:\n",
    "        i.start()\n",
    "    \n",
    "currency_threads(create_currencylist())\n",
    "    "
   ]
  },
  {
   "cell_type": "code",
   "execution_count": 8,
   "id": "ce7daf2a-8991-442f-ab63-d5c6270a6120",
   "metadata": {},
   "outputs": [
    {
     "data": {
      "text/plain": [
       "'invalid currency input'"
      ]
     },
     "execution_count": 8,
     "metadata": {},
     "output_type": "execute_result"
    }
   ],
   "source": [
    "#obtain file of selected currency\n",
    "def obtainCurrencyRates(currency):\n",
    "    if currency not in ratesForBase:\n",
    "        return \"invalid currency input\"\n",
    "    else:\n",
    "        #code below is taken from example\n",
    "        date = \"2011-05-04\"\n",
    "        base = currency\n",
    "        url = f\"https://www.floatrates.com/historical-exchange-rates.html?operation=rates&pb_id=1775&page=historical&currency_date={date}&base_currency_code={base}&format_type=xml\"\n",
    "        print(url)\n",
    "        # Fetch the XML data\n",
    "        response = requests.get(url)\n",
    "        response.raise_for_status()  # Ensure we notice bad responses\n",
    "        \n",
    "        # Parse the XML data to a Python dictionary\n",
    "        data_dict = xmltodict.parse(response.text)\n",
    "        \n",
    "        # Convert the dictionary to a JSON string\n",
    "        json_data = json.dumps(data_dict, indent=4)\n",
    "        \n",
    "        # Print the JSON data\n",
    "        print(json_data)\n",
    "        \n",
    "        # Optionally, write the JSON data to a file\n",
    "        with open(f\"{date}_exchange_rates_{base}.json\", \"w\") as json_file:\n",
    "            json_file.write(json_data)\n",
    "\n"
   ]
  },
  {
   "cell_type": "code",
   "execution_count": 11,
   "id": "1ca2f1e2-31d8-4ed0-bcf5-2eda590bca14",
   "metadata": {},
   "outputs": [
    {
     "name": "stdout",
     "output_type": "stream",
     "text": [
      "AUD\n"
     ]
    }
   ],
   "source": [
    "#unused\n",
    "global currencyselect\n",
    "print(currencyselect)\n",
    "#currencyselect needs to be a global to be obtained from the selectCurrency function"
   ]
  },
  {
   "cell_type": "code",
   "execution_count": null,
   "id": "edc55b74-f0b2-4ec0-934f-e011c6cc35a5",
   "metadata": {},
   "outputs": [],
   "source": [
    "#unused\n",
    "global currencyselect\n",
    "obtainCurrencyRates(currencyselect)"
   ]
  },
  {
   "cell_type": "code",
   "execution_count": null,
   "id": "b882bd26-db1e-46c8-a3eb-4057fb271600",
   "metadata": {},
   "outputs": [],
   "source": [
    "#code block provided from the example\n",
    "rates = [\"EUR\", \"GBP\", \"USD\", \"DZD\", \"AUD\", \"BWP\", \"BND\", \"CAD\", \"CLP\", \"CNY\", \"COP\", \"CZK\", \"DKK\", \"HUF\", \"ISK\", \"INR\", \"IDR\", \"ILS\", \"KZT\", \"KRW\", \"KWD\", \"LYD\", \"MYR\", \"MUR\", \"NPR\", \"NZD\", \"NOK\", \"OMR\", \"PKR\", \"PLN\", \"QAR\", \"RUB\", \"SAR\", \"SGD\", \"ZAR\", \"LKR\", \"SEK\", \"CHF\", \"THB\", \"TTD\"]\n",
    "ratesForBase = [r for r in rates if r != \"USD\" and r != \"EUR\" and r != \"GBP\"]\n",
    "import requests\n",
    "import xmltodict\n",
    "import json\n",
    "import random\n",
    "\n",
    "# URL of the XML data\n",
    "date = \"2011-05-04\"\n",
    "base = random.choice(ratesForBase)\n",
    "url = f\"https://www.floatrates.com/historical-exchange-rates.html?operation=rates&pb_id=1775&page=historical&currency_date={date}&base_currency_code={base}&format_type=xml\"\n",
    "print(url)\n",
    "# Fetch the XML data\n",
    "response = requests.get(url)\n",
    "response.raise_for_status()  # Ensure we notice bad responses\n",
    "\n",
    "# Parse the XML data to a Python dictionary\n",
    "data_dict = xmltodict.parse(response.text)\n",
    "\n",
    "# Convert the dictionary to a JSON string\n",
    "json_data = json.dumps(data_dict, indent=4)\n",
    "\n",
    "# Print the JSON data\n",
    "print(json_data)\n",
    "\n",
    "# Optionally, write the JSON data to a file\n",
    "with open(f\"{date}_exchange_rates_{base}.json\", \"w\") as json_file:\n",
    "    json_file.write(json_data)"
   ]
  },
  {
   "cell_type": "markdown",
   "id": "d49a52b3-fda8-4228-a1dd-3928674f89aa",
   "metadata": {},
   "source": [
    "#2 - Perform Exploratory Data Analysis on the dataset from #1\n",
    "- Aggregate and visualize trends in exchange over time for at least 5 major currencies\n",
    "- Identify periods of volatility - perhaps during economic upheaval\n",
    "- Generate at least multiple visualizations using seaborn\n",
    "\n",
    "\n"
   ]
  },
  {
   "cell_type": "code",
   "execution_count": 137,
   "id": "b3a26b7b-c436-4dcb-bbef-6a359e132086",
   "metadata": {},
   "outputs": [
    {
     "name": "stdout",
     "output_type": "stream",
     "text": [
      "['MUR', 'KZT', 'OMR', 'MYR', 'HUF']\n",
      "https://www.floatrates.com/historical-exchange-rates.html?operation=rates&pb_id=1775&page=historical&currency_date=2011-05-04&base_currency_code=MUR&format_type=xml\n",
      "https://www.floatrates.com/historical-exchange-rates.html?operation=rates&pb_id=1775&page=historical&currency_date=2011-06-04&base_currency_code=MUR&format_type=xml\n",
      "https://www.floatrates.com/historical-exchange-rates.html?operation=rates&pb_id=1775&page=historical&currency_date=2011-07-04&base_currency_code=MUR&format_type=xml\n",
      "https://www.floatrates.com/historical-exchange-rates.html?operation=rates&pb_id=1775&page=historical&currency_date=2011-08-04&base_currency_code=MUR&format_type=xml\n",
      "https://www.floatrates.com/historical-exchange-rates.html?operation=rates&pb_id=1775&page=historical&currency_date=2011-09-04&base_currency_code=MUR&format_type=xml\n",
      "https://www.floatrates.com/historical-exchange-rates.html?operation=rates&pb_id=1775&page=historical&currency_date=2011-05-04&base_currency_code=KZT&format_type=xml\n",
      "https://www.floatrates.com/historical-exchange-rates.html?operation=rates&pb_id=1775&page=historical&currency_date=2011-06-04&base_currency_code=KZT&format_type=xml\n",
      "https://www.floatrates.com/historical-exchange-rates.html?operation=rates&pb_id=1775&page=historical&currency_date=2011-07-04&base_currency_code=KZT&format_type=xml\n",
      "https://www.floatrates.com/historical-exchange-rates.html?operation=rates&pb_id=1775&page=historical&currency_date=2011-08-04&base_currency_code=KZT&format_type=xml\n",
      "https://www.floatrates.com/historical-exchange-rates.html?operation=rates&pb_id=1775&page=historical&currency_date=2011-09-04&base_currency_code=KZT&format_type=xml\n",
      "https://www.floatrates.com/historical-exchange-rates.html?operation=rates&pb_id=1775&page=historical&currency_date=2011-05-04&base_currency_code=OMR&format_type=xml\n",
      "https://www.floatrates.com/historical-exchange-rates.html?operation=rates&pb_id=1775&page=historical&currency_date=2011-06-04&base_currency_code=OMR&format_type=xml\n",
      "https://www.floatrates.com/historical-exchange-rates.html?operation=rates&pb_id=1775&page=historical&currency_date=2011-07-04&base_currency_code=OMR&format_type=xml\n",
      "https://www.floatrates.com/historical-exchange-rates.html?operation=rates&pb_id=1775&page=historical&currency_date=2011-08-04&base_currency_code=OMR&format_type=xml\n",
      "https://www.floatrates.com/historical-exchange-rates.html?operation=rates&pb_id=1775&page=historical&currency_date=2011-09-04&base_currency_code=OMR&format_type=xml\n",
      "https://www.floatrates.com/historical-exchange-rates.html?operation=rates&pb_id=1775&page=historical&currency_date=2011-05-04&base_currency_code=MYR&format_type=xml\n",
      "https://www.floatrates.com/historical-exchange-rates.html?operation=rates&pb_id=1775&page=historical&currency_date=2011-06-04&base_currency_code=MYR&format_type=xml\n",
      "https://www.floatrates.com/historical-exchange-rates.html?operation=rates&pb_id=1775&page=historical&currency_date=2011-07-04&base_currency_code=MYR&format_type=xml\n",
      "https://www.floatrates.com/historical-exchange-rates.html?operation=rates&pb_id=1775&page=historical&currency_date=2011-08-04&base_currency_code=MYR&format_type=xml\n",
      "https://www.floatrates.com/historical-exchange-rates.html?operation=rates&pb_id=1775&page=historical&currency_date=2011-09-04&base_currency_code=MYR&format_type=xml\n",
      "https://www.floatrates.com/historical-exchange-rates.html?operation=rates&pb_id=1775&page=historical&currency_date=2011-05-04&base_currency_code=HUF&format_type=xml\n",
      "https://www.floatrates.com/historical-exchange-rates.html?operation=rates&pb_id=1775&page=historical&currency_date=2011-06-04&base_currency_code=HUF&format_type=xml\n",
      "https://www.floatrates.com/historical-exchange-rates.html?operation=rates&pb_id=1775&page=historical&currency_date=2011-07-04&base_currency_code=HUF&format_type=xml\n",
      "https://www.floatrates.com/historical-exchange-rates.html?operation=rates&pb_id=1775&page=historical&currency_date=2011-08-04&base_currency_code=HUF&format_type=xml\n",
      "https://www.floatrates.com/historical-exchange-rates.html?operation=rates&pb_id=1775&page=historical&currency_date=2011-09-04&base_currency_code=HUF&format_type=xml\n"
     ]
    }
   ],
   "source": [
    "def create_currencylist2():\n",
    "    global targetlist\n",
    "    targetlist = []\n",
    "    for i in range(5):\n",
    "        temp = random.choice(ratesForBase)\n",
    "        targetlist.append(temp)\n",
    "    print(targetlist)\n",
    "#obtain file of selected currency\n",
    "def obtainCurrencyRates2(currency):\n",
    "    global currencylist\n",
    "    if currency not in ratesForBase:\n",
    "        return \"invalid currency input\"\n",
    "    else:\n",
    "        #code below is taken from example\n",
    "        for i in range(5):\n",
    "            date = f\"2011-0{i + 5}-04\"\n",
    "            base = currency\n",
    "            url = f\"https://www.floatrates.com/historical-exchange-rates.html?operation=rates&pb_id=1775&page=historical&currency_date={date}&base_currency_code={base}&format_type=xml\"\n",
    "            print(url)\n",
    "            # Fetch the XML data\n",
    "            response = requests.get(url)\n",
    "            response.raise_for_status()  # Ensure we notice bad responses\n",
    "            \n",
    "            # Parse the XML data to a Python dictionary\n",
    "            data_dict = xmltodict.parse(response.text)\n",
    "            currencylist.append(data_dict)\n",
    "global currencylist\n",
    "currencylist = []\n",
    "create_currencylist2()\n",
    "for i in targetlist:\n",
    "    obtainCurrencyRates2(i)"
   ]
  },
  {
   "cell_type": "code",
   "execution_count": 26,
   "id": "c2dad4c7-0e74-43e9-846f-ea3724efaf84",
   "metadata": {},
   "outputs": [
    {
     "name": "stdout",
     "output_type": "stream",
     "text": [
      "2011-05-04\n",
      "2011-06-04\n",
      "2011-07-04\n",
      "2011-08-04\n",
      "2011-09-04\n"
     ]
    }
   ],
   "source": [
    "for i in range(5):\n",
    "    temp = f\"2011-0{i + 5}-04\"\n",
    "    print(temp)"
   ]
  },
  {
   "cell_type": "code",
   "execution_count": null,
   "id": "ab7c4091-0061-4ec3-a6d7-5a3b54ae8c72",
   "metadata": {},
   "outputs": [],
   "source": [
    "global currencylist\n",
    "print(currencylist)"
   ]
  },
  {
   "cell_type": "code",
   "execution_count": 3,
   "id": "297428de-a64e-42ff-8274-ba469dab5055",
   "metadata": {},
   "outputs": [],
   "source": [
    "#imports\n",
    "import pandas as pd\n",
    "import numpy as np\n",
    "import seaborn as sns\n",
    "import random"
   ]
  },
  {
   "cell_type": "code",
   "execution_count": 34,
   "id": "b68a4845-4239-45ed-9798-a2cb1d8dd0d4",
   "metadata": {},
   "outputs": [
    {
     "name": "stdout",
     "output_type": "stream",
     "text": [
      "https://www.floatrates.com/historical-exchange-rates.html?operation=rates&pb_id=1775&page=historical&currency_date=2011-05-04&base_currency_code=AUD&format_type=xml\n",
      "https://www.floatrates.com/historical-exchange-rates.html?operation=rates&pb_id=1775&page=historical&currency_date=2011-06-04&base_currency_code=AUD&format_type=xml\n",
      "https://www.floatrates.com/historical-exchange-rates.html?operation=rates&pb_id=1775&page=historical&currency_date=2011-07-04&base_currency_code=AUD&format_type=xml\n",
      "https://www.floatrates.com/historical-exchange-rates.html?operation=rates&pb_id=1775&page=historical&currency_date=2011-08-04&base_currency_code=AUD&format_type=xml\n",
      "https://www.floatrates.com/historical-exchange-rates.html?operation=rates&pb_id=1775&page=historical&currency_date=2011-09-04&base_currency_code=AUD&format_type=xml\n"
     ]
    }
   ],
   "source": [
    "obtainCurrencyRates2(\"AUD\")"
   ]
  },
  {
   "cell_type": "code",
   "execution_count": 136,
   "id": "363bcc53-a879-4ee8-82e2-1d459100f321",
   "metadata": {},
   "outputs": [
    {
     "name": "stdout",
     "output_type": "stream",
     "text": [
      "['BWP', 'HUF', 'SEK', 'ILS', 'ILS']\n"
     ]
    }
   ],
   "source": [
    "global targetlist\n",
    "print(targetlist)"
   ]
  },
  {
   "cell_type": "code",
   "execution_count": 152,
   "id": "52a8df6d-5c7d-4fca-a1aa-702fd856c97b",
   "metadata": {},
   "outputs": [
    {
     "name": "stdout",
     "output_type": "stream",
     "text": [
      "1 MUR = 0.022231 GBP\n",
      "1 MUR = 0.232919 CNY\n",
      "1 MUR = 0.228404 CNY\n",
      "1 MUR = 0.229511 CNY\n",
      "1 MUR = 2.755258 JPY\n",
      "1 KZT = 0.004152 GBP\n",
      "1 KZT = 0.044543 CNY\n",
      "1 KZT = 0.044322 CNY\n",
      "1 KZT = 0.044029 CNY\n",
      "1 KZT = 0.524001 JPY\n",
      "1 OMR = 1.574279 GBP\n",
      "1 OMR = 16.855764 CNY\n",
      "1 OMR = 16.809972 CNY\n",
      "1 OMR = 16.746996 CNY\n",
      "1 OMR = 199.842558 JPY\n",
      "1 MYR = 0.203192 GBP\n",
      "1 MYR = 2.150923 CNY\n",
      "1 MYR = 2.152980 CNY\n",
      "1 MYR = 2.160445 CNY\n",
      "1 MYR = 25.891461 JPY\n",
      "1 HUF = 0.003394 GBP\n",
      "1 HUF = 0.035519 CNY\n",
      "1 HUF = 0.035568 CNY\n",
      "1 HUF = 0.033597 CNY\n",
      "1 HUF = 0.397317 JPY\n"
     ]
    }
   ],
   "source": [
    "global currencylist\n",
    "index = 0\n",
    "for i in currencylist:\n",
    "    #print(currencylist[index]['channel']['title'])\n",
    "    print(currencylist[index]['channel']['item'][1]['title'])\n",
    "    index += 1"
   ]
  },
  {
   "cell_type": "code",
   "execution_count": 144,
   "id": "443f2722-f321-41be-80d8-671c710003d1",
   "metadata": {},
   "outputs": [
    {
     "name": "stdout",
     "output_type": "stream",
     "text": [
      "{'MUR': ['0.024678'], 'KZT': ['0.024678'], 'OMR': ['0.024678'], 'MYR': ['0.024678'], 'HUF': ['0.024678']}\n"
     ]
    }
   ],
   "source": [
    "global currencylist\n",
    "global targetlist\n",
    "\n",
    "compdict = { }\n",
    "index = 0\n",
    "for k in targetlist:\n",
    "    temp1 = {k : []}\n",
    "    compdict.update(temp1)\n",
    "for i in currencylist[index]['channel']['item']:\n",
    "    #print(i['channel'])\n",
    "    #print(i['targetName'])\n",
    "    #print(i[\"exchangeRate\"])\n",
    "    for j in targetlist:\n",
    "        #print(k)\n",
    "        \n",
    "        if i[\"targetName\"] == \"Euro\":\n",
    "            #print(\"true\")\n",
    "            #print(compdict[k])\n",
    "            #print(j[\"exchangeRate\"])\n",
    "            compdict[j].append(i[\"exchangeRate\"])\n",
    "    index += 1\n",
    "print(compdict)"
   ]
  },
  {
   "cell_type": "code",
   "execution_count": 140,
   "id": "2b048a9e-3bb1-458b-a923-329e036d28f7",
   "metadata": {},
   "outputs": [
    {
     "name": "stdout",
     "output_type": "stream",
     "text": [
      "         MUR       KZT       OMR       MYR       HUF\n",
      "0   0.024678  0.024678  0.024678  0.024678  0.024678\n",
      "1   0.024757  0.024757  0.024757  0.024757  0.024757\n",
      "2   0.024340  0.024340  0.024340  0.024340  0.024340\n",
      "3   0.025065  0.025065  0.025065  0.025065  0.025065\n",
      "4   0.025184  0.025184  0.025184  0.025184  0.025184\n",
      "5   0.004609  0.004609  0.004609  0.004609  0.004609\n",
      "6   0.004734  0.004734  0.004734  0.004734  0.004734\n",
      "7   0.004723  0.004723  0.004723  0.004723  0.004723\n",
      "8   0.004808  0.004808  0.004808  0.004808  0.004808\n",
      "9   0.004789  0.004789  0.004789  0.004789  0.004789\n",
      "10  1.747601  1.747601  1.747601  1.747601  1.747601\n",
      "11  1.791591  1.791591  1.791591  1.791591  1.791591\n",
      "12  1.791337  1.791337  1.791337  1.791337  1.791337\n",
      "13  1.828916  1.828916  1.828916  1.828916  1.828916\n",
      "14  1.826611  1.826611  1.826611  1.826611  1.826611\n",
      "15  0.225563  0.225563  0.225563  0.225563  0.225563\n",
      "16  0.228621  0.228621  0.228621  0.228621  0.228621\n",
      "17  0.229430  0.229430  0.229430  0.229430  0.229430\n",
      "18  0.235939  0.235939  0.235939  0.235939  0.235939\n",
      "19  0.236654  0.236654  0.236654  0.236654  0.236654\n",
      "20  0.003768  0.003768  0.003768  0.003768  0.003768\n",
      "21  0.003775  0.003775  0.003775  0.003775  0.003775\n",
      "22  0.003790  0.003790  0.003790  0.003790  0.003790\n",
      "23  0.003669  0.003669  0.003669  0.003669  0.003669\n",
      "24  0.003632  0.003632  0.003632  0.003632  0.003632\n"
     ]
    }
   ],
   "source": [
    "df = pd.DataFrame(compdict)\n",
    "print(df)"
   ]
  },
  {
   "cell_type": "code",
   "execution_count": 64,
   "id": "79adda9f-ed07-4dce-bb5d-be056eb6b774",
   "metadata": {},
   "outputs": [
    {
     "data": {
      "text/plain": [
       "<Axes: xlabel='Month', ylabel='Euro'>"
      ]
     },
     "execution_count": 64,
     "metadata": {},
     "output_type": "execute_result"
    },
    {
     "data": {
      "image/png": "[encoded data removed]",
      "text/plain": [
       "<Figure size 640x480 with 1 Axes>"
      ]
     },
     "metadata": {},
     "output_type": "display_data"
    }
   ],
   "source": [
    "\n",
    "sns.scatterplot(x='Month',y = 'Euro', data=df)"
   ]
  },
  {
   "cell_type": "code",
   "execution_count": null,
   "id": "f7737b07-c803-4f7d-9d7e-157f80f0bbb0",
   "metadata": {},
   "outputs": [],
   "source": []
  }
 ],
 "metadata": {
  "kernelspec": {
   "display_name": "Python 3 (ipykernel)",
   "language": "python",
   "name": "python3"
  },
  "language_info": {
   "codemirror_mode": {
    "name": "ipython",
    "version": 3
   },
   "file_extension": ".py",
   "mimetype": "text/x-python",
   "name": "python",
   "nbconvert_exporter": "python",
   "pygments_lexer": "ipython3",
   "version": "3.13.1"
  }
 },
 "nbformat": 4,
 "nbformat_minor": 5
}
