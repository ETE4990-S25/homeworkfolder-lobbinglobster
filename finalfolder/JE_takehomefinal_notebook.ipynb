{
 "cells": [
  {
   "cell_type": "code",
   "execution_count": 1,
   "id": "9459cfd1-e84d-43f1-8622-0122c854c70b",
   "metadata": {},
   "outputs": [
    {
     "name": "stdout",
     "output_type": "stream",
     "text": [
      "Collecting xmltodict\n",
      "  Downloading xmltodict-0.14.2-py2.py3-none-any.whl.metadata (8.0 kB)\n",
      "Downloading xmltodict-0.14.2-py2.py3-none-any.whl (10.0 kB)\n",
      "Installing collected packages: xmltodict\n",
      "Successfully installed xmltodict-0.14.2\n"
     ]
    },
    {
     "name": "stderr",
     "output_type": "stream",
     "text": [
      "\n",
      "[notice] A new release of pip is available: 25.0.1 -> 25.1.1\n",
      "[notice] To update, run: c:\\Users\\jermy\\AppData\\Local\\Programs\\Python\\Python313\\python.exe -m pip install --upgrade pip\n"
     ]
    }
   ],
   "source": [
    "!pip install xmltodict"
   ]
  },
  {
   "cell_type": "markdown",
   "id": "2f6e6ce6-3f4f-4c45-a0ed-3b20f195ce7d",
   "metadata": {},
   "source": [
    "Jeremy Esperanza\n",
    "-\n",
    "#1 - Retrieve historical exchange data from floatrates.com for one of the 52 available currencies\n",
    "- Store code in XML or JSON\n",
    "- Organize each currency into its own directory (?)\n",
    "- Ensure code is modular, maintainable, robust against timeouts or malformed entries\n",
    "\n",
    "\n",
    "\n"
   ]
  },
  {
   "cell_type": "code",
   "execution_count": 1,
   "id": "e13c230f",
   "metadata": {},
   "outputs": [],
   "source": [
    "#initial variables and imports from example\n",
    "rates = [\"EUR\", \"GBP\", \"USD\", \"DZD\", \"AUD\", \"BWP\", \"BND\", \"CAD\", \"CLP\", \"CNY\", \"COP\", \"CZK\", \"DKK\", \"HUF\", \"ISK\", \"INR\", \"IDR\", \"ILS\", \"KZT\", \"KRW\", \"KWD\", \"LYD\", \"MYR\", \"MUR\", \"NPR\", \"NZD\", \"NOK\", \"OMR\", \"PKR\", \"PLN\", \"QAR\", \"RUB\", \"SAR\", \"SGD\", \"ZAR\", \"LKR\", \"SEK\", \"CHF\", \"THB\", \"TTD\"]\n",
    "ratesForBase = [r for r in rates if r != \"USD\" and r != \"EUR\" and r != \"GBP\"]\n",
    "import requests\n",
    "import xmltodict\n",
    "import json\n",
    "import random\n",
    "import threading\n",
    "import time\n",
    "import pandas as pd\n",
    "import numpy as np\n",
    "import seaborn as sns"
   ]
  },
  {
   "cell_type": "code",
   "execution_count": null,
   "id": "7f0f63b0",
   "metadata": {},
   "outputs": [],
   "source": [
    "#create list using randomly selected currencies - unused\n",
    "def create_currencylist():\n",
    "    crlist = []\n",
    "    for i in range(5):\n",
    "        temp = random.choice(ratesForBase)\n",
    "        crlist.append(temp)\n",
    "    print(crlist)\n",
    "    return crlist\n",
    "\n",
    "#obtain json of a currency\n",
    "def obtainCurrencyRates(currency):\n",
    "    if currency not in ratesForBase:\n",
    "        return \"invalid currency input\"\n",
    "    else:\n",
    "        #code below is taken from example\n",
    "        date = \"2011-05-04\"\n",
    "        base = currency\n",
    "        url = f\"https://www.floatrates.com/historical-exchange-rates.html?operation=rates&pb_id=1775&page=historical&currency_date={date}&base_currency_code={base}&format_type=xml\"\n",
    "        print(url)\n",
    "        # Fetch the XML data\n",
    "        response = requests.get(url)\n",
    "        response.raise_for_status()  # Ensure we notice bad responses\n",
    "        \n",
    "        # Parse the XML data to a Python dictionary\n",
    "        data_dict = xmltodict.parse(response.text)\n",
    "        \n",
    "        # Convert the dictionary to a JSON string\n",
    "        json_data = json.dumps(data_dict, indent=4)\n",
    "        \n",
    "        # Print the JSON data\n",
    "        print(json_data)\n",
    "        \n",
    "        # Optionally, write the JSON data to a file\n",
    "        with open(f\"{date}_exchange_rates_{base}.json\", \"w\") as json_file:\n",
    "            json_file.write(json_data)\n",
    "\n",
    "\n",
    "        \n",
    "    \n",
    "#implement threads\n",
    "def currency_threads(inputlist):\n",
    "    threads = []\n",
    "    for i in inputlist:\n",
    "        thread = threading.Thread(target = obtainCurrencyRates, args = (i,))\n",
    "        threads.append(thread)\n",
    "    print (threads)\n",
    "    for i in threads:\n",
    "        i.start()\n",
    "    \n",
    "\n",
    "    "
   ]
  },
  {
   "cell_type": "code",
   "execution_count": null,
   "id": "58110fe8",
   "metadata": {},
   "outputs": [],
   "source": [
    "currency_threads(create_currencylist())"
   ]
  },
  {
   "cell_type": "code",
   "execution_count": null,
   "id": "b882bd26-db1e-46c8-a3eb-4057fb271600",
   "metadata": {},
   "outputs": [],
   "source": [
    "#code block provided from the example\n",
    "rates = [\"EUR\", \"GBP\", \"USD\", \"DZD\", \"AUD\", \"BWP\", \"BND\", \"CAD\", \"CLP\", \"CNY\", \"COP\", \"CZK\", \"DKK\", \"HUF\", \"ISK\", \"INR\", \"IDR\", \"ILS\", \"KZT\", \"KRW\", \"KWD\", \"LYD\", \"MYR\", \"MUR\", \"NPR\", \"NZD\", \"NOK\", \"OMR\", \"PKR\", \"PLN\", \"QAR\", \"RUB\", \"SAR\", \"SGD\", \"ZAR\", \"LKR\", \"SEK\", \"CHF\", \"THB\", \"TTD\"]\n",
    "ratesForBase = [r for r in rates if r != \"USD\" and r != \"EUR\" and r != \"GBP\"]\n",
    "import requests\n",
    "import xmltodict\n",
    "import json\n",
    "import random\n",
    "\n",
    "# URL of the XML data\n",
    "date = \"2011-05-04\"\n",
    "base = random.choice(ratesForBase)\n",
    "url = f\"https://www.floatrates.com/historical-exchange-rates.html?operation=rates&pb_id=1775&page=historical&currency_date={date}&base_currency_code={base}&format_type=xml\"\n",
    "print(url)\n",
    "# Fetch the XML data\n",
    "response = requests.get(url)\n",
    "response.raise_for_status()  # Ensure we notice bad responses\n",
    "\n",
    "# Parse the XML data to a Python dictionary\n",
    "data_dict = xmltodict.parse(response.text)\n",
    "\n",
    "# Convert the dictionary to a JSON string\n",
    "json_data = json.dumps(data_dict, indent=4)\n",
    "\n",
    "# Print the JSON data\n",
    "print(json_data)\n",
    "\n",
    "# Optionally, write the JSON data to a file\n",
    "with open(f\"{date}_exchange_rates_{base}.json\", \"w\") as json_file:\n",
    "    json_file.write(json_data)"
   ]
  },
  {
   "cell_type": "markdown",
   "id": "d49a52b3-fda8-4228-a1dd-3928674f89aa",
   "metadata": {},
   "source": [
    "#2 - Perform Exploratory Data Analysis on the dataset from #1\n",
    "- Aggregate and visualize trends in exchange over time for at least 5 major currencies\n",
    "- Identify periods of volatility - perhaps during economic upheaval\n",
    "- Generate at least multiple visualizations using seaborn\n",
    "\n",
    "  The example code only provides a comparison between currencies for a single day, meaning that any analysis\n",
    "  over a period of time is impossible. Comparing exchange rates in a single sample of time cannot show where\n",
    "  the value of the currency rises or falls. The only comparision that can be done is in relation to the selected\n",
    "  currency in the dataset, whether a currency is valued higher or lower than the selected currency.\n",
    "\n",
    "  Visualizing the dataset would require multiple comparisions of currency as opposed to the single comparison obtained in #1. \n"
   ]
  },
  {
   "cell_type": "code",
   "execution_count": 13,
   "id": "b3a26b7b-c436-4dcb-bbef-6a359e132086",
   "metadata": {},
   "outputs": [],
   "source": [
    "#create a user input to allow the selection of a currency\n",
    "def selectCurrency():\n",
    "    flag = 1\n",
    "    print(\"currencies to choose from:\")\n",
    "    string = \" \"\n",
    "    for i in ratesForBase:\n",
    "        print(i)\n",
    "    while flag == 1:\n",
    "        sel = input(\"select a currency\").upper()\n",
    "        #print(sel.upper())\n",
    "        if sel in ratesForBase:\n",
    "            global currencyselect\n",
    "            print(f\"{sel} is selected\")\n",
    "            currencyselect = sel\n",
    "            flag = 0\n",
    "        else:\n",
    "            print(\"invalid input\")\n",
    "#obtain file of selected currency\n",
    "def obtainCurrencyRates2(currency):\n",
    "    if currency not in ratesForBase:\n",
    "        return \"invalid currency input\"\n",
    "    else:\n",
    "        #code below is taken from example\n",
    "        date = \"2011-05-04\"\n",
    "        base = currency\n",
    "        url = f\"https://www.floatrates.com/historical-exchange-rates.html?operation=rates&pb_id=1775&page=historical&currency_date={date}&base_currency_code={base}&format_type=xml\"\n",
    "        print(url)\n",
    "        # Fetch the XML data\n",
    "        response = requests.get(url)\n",
    "        response.raise_for_status()  # Ensure we notice bad responses\n",
    "        \n",
    "        # Parse the XML data to a Python dictionary\n",
    "        data_dict = xmltodict.parse(response.text)\n",
    "        return data_dict\n",
    "        \n",
    "            \n"
   ]
  },
  {
   "cell_type": "code",
   "execution_count": 10,
   "id": "297428de-a64e-42ff-8274-ba469dab5055",
   "metadata": {},
   "outputs": [],
   "source": [
    "#imports\n",
    "import pandas as pd\n",
    "import numpy as np\n",
    "import seaborn as sns"
   ]
  },
  {
   "cell_type": "code",
   "execution_count": 21,
   "id": "b68a4845-4239-45ed-9798-a2cb1d8dd0d4",
   "metadata": {},
   "outputs": [
    {
     "name": "stdout",
     "output_type": "stream",
     "text": [
      "https://www.floatrates.com/historical-exchange-rates.html?operation=rates&pb_id=1775&page=historical&currency_date=2011-05-04&base_currency_code=AUD&format_type=xml\n"
     ]
    }
   ],
   "source": [
    "seldict = obtainCurrencyRates2(\"AUD\")"
   ]
  },
  {
   "cell_type": "code",
   "execution_count": 29,
   "id": "52a8df6d-5c7d-4fca-a1aa-702fd856c97b",
   "metadata": {},
   "outputs": [
    {
     "name": "stdout",
     "output_type": "stream",
     "text": [
      "{'title': 'XML Historical Foreign Exchange Rates for Australian Dollar (AUD) (4 May 2011)', 'link': 'http://www.floatrates.com/currency/aud/', 'xmlLink': 'http://www.floatrates.com/daily/aud.xml', 'description': 'XML historical foreign exchange rates for Australian Dollar (AUD) from the Float Rates. Published at 4 May 2011.', 'language': 'en', 'baseCurrency': 'AUD', 'pubDate': 'Wed, 4 May 2011', 'lastBuildDate': 'Wed, 4 May 2011', 'item': [{'title': '1 AUD = 0.727935 EUR', 'link': 'http://www.floatrates.com/aud/eur/', 'description': '1 Australian Dollar = 0.727935 Euro', 'pubDate': None, 'baseCurrency': 'AUD', 'baseName': 'Australian Dollar', 'targetCurrency': 'EUR', 'targetName': 'Euro', 'exchangeRate': '0.727935', 'inverseRate': '1.373749', 'inverseDescription': '1 Euro = 1.373749 Australian Dollar'}, {'title': '1 AUD = 0.655741 GBP', 'link': 'http://www.floatrates.com/aud/gbp/', 'description': '1 Australian Dollar = 0.655741 U.K. Pound Sterling', 'pubDate': None, 'baseCurrency': 'AUD', 'baseName': 'Australian Dollar', 'targetCurrency': 'GBP', 'targetName': 'U.K. Pound Sterling', 'exchangeRate': '0.655741', 'inverseRate': '1.524993', 'inverseDescription': '1 U.K. Pound Sterling = 1.524993 Australian Dollar'}, {'title': '1 AUD = 1.083313 USD', 'link': 'http://www.floatrates.com/aud/usd/', 'description': '1 Australian Dollar = 1.083313 U.S. Dollar', 'pubDate': None, 'baseCurrency': 'AUD', 'baseName': 'Australian Dollar', 'targetCurrency': 'USD', 'targetName': 'U.S. Dollar', 'exchangeRate': '1.083313', 'inverseRate': '0.923094', 'inverseDescription': '1 U.S. Dollar = 0.923094 Australian Dollar'}, {'title': '1 AUD = 77.232653 DZD', 'link': 'http://www.floatrates.com/aud/dzd/', 'description': '1 Australian Dollar = 77.232653 Algerian Dinar', 'pubDate': None, 'baseCurrency': 'AUD', 'baseName': 'Australian Dollar', 'targetCurrency': 'DZD', 'targetName': 'Algerian Dinar', 'exchangeRate': '77.232653', 'inverseRate': '0.012948', 'inverseDescription': '1 Algerian Dinar = 0.012948 Australian Dollar'}, {'title': '1 AUD = 1.000000 AUD', 'link': 'http://www.floatrates.com/aud/aud/', 'description': '1 Australian Dollar = 1.000000 Australian Dollar', 'pubDate': None, 'baseCurrency': 'AUD', 'baseName': 'Australian Dollar', 'targetCurrency': 'AUD', 'targetName': 'Australian Dollar', 'exchangeRate': '1.000000', 'inverseRate': '1.000000', 'inverseDescription': '1 Australian Dollar = 1.000000 Australian Dollar'}, {'title': '1 AUD = 6.904482 BWP', 'link': 'http://www.floatrates.com/aud/bwp/', 'description': '1 Australian Dollar = 6.904482 Botswana Pula', 'pubDate': None, 'baseCurrency': 'AUD', 'baseName': 'Australian Dollar', 'targetCurrency': 'BWP', 'targetName': 'Botswana Pula', 'exchangeRate': '6.904482', 'inverseRate': '0.144833', 'inverseDescription': '1 Botswana Pula = 0.144833 Australian Dollar'}, {'title': '1 AUD = 1.332692 BND', 'link': 'http://www.floatrates.com/aud/bnd/', 'description': '1 Australian Dollar = 1.332692 Brunei Dollar', 'pubDate': None, 'baseCurrency': 'AUD', 'baseName': 'Australian Dollar', 'targetCurrency': 'BND', 'targetName': 'Brunei Dollar', 'exchangeRate': '1.332692', 'inverseRate': '0.750361', 'inverseDescription': '1 Brunei Dollar = 0.750361 Australian Dollar'}, {'title': '1 AUD = 1.035825 CAD', 'link': 'http://www.floatrates.com/aud/cad/', 'description': '1 Australian Dollar = 1.035825 Canadian Dollar', 'pubDate': None, 'baseCurrency': 'AUD', 'baseName': 'Australian Dollar', 'targetCurrency': 'CAD', 'targetName': 'Canadian Dollar', 'exchangeRate': '1.035825', 'inverseRate': '0.965414', 'inverseDescription': '1 Canadian Dollar = 0.965414 Australian Dollar'}, {'title': '1 AUD = 501.649875 CLP', 'link': 'http://www.floatrates.com/aud/clp/', 'description': '1 Australian Dollar = 501.649875 Chilean Peso', 'pubDate': None, 'baseCurrency': 'AUD', 'baseName': 'Australian Dollar', 'targetCurrency': 'CLP', 'targetName': 'Chilean Peso', 'exchangeRate': '501.649875', 'inverseRate': '0.001993', 'inverseDescription': '1 Chilean Peso = 0.001993 Australian Dollar'}, {'title': '1 AUD = 7.040121 CNY', 'link': 'http://www.floatrates.com/aud/cny/', 'description': '1 Australian Dollar = 7.040121 Chinese Yuan', 'pubDate': None, 'baseCurrency': 'AUD', 'baseName': 'Australian Dollar', 'targetCurrency': 'CNY', 'targetName': 'Chinese Yuan', 'exchangeRate': '7.040121', 'inverseRate': '0.142043', 'inverseDescription': '1 Chinese Yuan = 0.142043 Australian Dollar'}, {'title': '1 AUD = 1,914.268709 COP', 'link': 'http://www.floatrates.com/aud/cop/', 'description': '1 Australian Dollar = 1,914.268709 Colombian Peso', 'pubDate': None, 'baseCurrency': 'AUD', 'baseName': 'Australian Dollar', 'targetCurrency': 'COP', 'targetName': 'Colombian Peso', 'exchangeRate': '1,914.268709', 'inverseRate': '0.000522', 'inverseDescription': '1 Colombian Peso = 0.000522 Australian Dollar'}, {'title': '1 AUD = 17.620922 CZK', 'link': 'http://www.floatrates.com/aud/czk/', 'description': '1 Australian Dollar = 17.620922 Czech Koruna', 'pubDate': None, 'baseCurrency': 'AUD', 'baseName': 'Australian Dollar', 'targetCurrency': 'CZK', 'targetName': 'Czech Koruna', 'exchangeRate': '17.620922', 'inverseRate': '0.056751', 'inverseDescription': '1 Czech Koruna = 0.056751 Australian Dollar'}, {'title': '1 AUD = 5.428056 DKK', 'link': 'http://www.floatrates.com/aud/dkk/', 'description': '1 Australian Dollar = 5.428056 Danish Krone', 'pubDate': None, 'baseCurrency': 'AUD', 'baseName': 'Australian Dollar', 'targetCurrency': 'DKK', 'targetName': 'Danish Krone', 'exchangeRate': '5.428056', 'inverseRate': '0.184228', 'inverseDescription': '1 Danish Krone = 0.184228 Australian Dollar'}, {'title': '1 AUD = 193.188136 HUF', 'link': 'http://www.floatrates.com/aud/huf/', 'description': '1 Australian Dollar = 193.188136 Hungarian Forint', 'pubDate': None, 'baseCurrency': 'AUD', 'baseName': 'Australian Dollar', 'targetCurrency': 'HUF', 'targetName': 'Hungarian Forint', 'exchangeRate': '193.188136', 'inverseRate': '0.005176', 'inverseDescription': '1 Hungarian Forint = 0.005176 Australian Dollar'}, {'title': '1 AUD = 120.670265 ISK', 'link': 'http://www.floatrates.com/aud/isk/', 'description': '1 Australian Dollar = 120.670265 Icelandic Krona', 'pubDate': None, 'baseCurrency': 'AUD', 'baseName': 'Australian Dollar', 'targetCurrency': 'ISK', 'targetName': 'Icelandic Krona', 'exchangeRate': '120.670265', 'inverseRate': '0.008287', 'inverseDescription': '1 Icelandic Krona = 0.008287 Australian Dollar'}, {'title': '1 AUD = 48.261544 INR', 'link': 'http://www.floatrates.com/aud/inr/', 'description': '1 Australian Dollar = 48.261544 Indian Rupee', 'pubDate': None, 'baseCurrency': 'AUD', 'baseName': 'Australian Dollar', 'targetCurrency': 'INR', 'targetName': 'Indian Rupee', 'exchangeRate': '48.261544', 'inverseRate': '0.020720', 'inverseDescription': '1 Indian Rupee = 0.020720 Australian Dollar'}, {'title': '1 AUD = 9,269.544116 IDR', 'link': 'http://www.floatrates.com/aud/idr/', 'description': '1 Australian Dollar = 9,269.544116 Indonesian Rupiah', 'pubDate': None, 'baseCurrency': 'AUD', 'baseName': 'Australian Dollar', 'targetCurrency': 'IDR', 'targetName': 'Indonesian Rupiah', 'exchangeRate': '9,269.544116', 'inverseRate': '0.000108', 'inverseDescription': '1 Indonesian Rupiah = 0.000108 Australian Dollar'}, {'title': '1 AUD = 3.675454 ILS', 'link': 'http://www.floatrates.com/aud/ils/', 'description': '1 Australian Dollar = 3.675454 Israeli New Sheqel', 'pubDate': None, 'baseCurrency': 'AUD', 'baseName': 'Australian Dollar', 'targetCurrency': 'ILS', 'targetName': 'Israeli New Sheqel', 'exchangeRate': '3.675454', 'inverseRate': '0.272075', 'inverseDescription': '1 Israeli New Sheqel = 0.272075 Australian Dollar'}, {'title': '1 AUD = 157.936241 KZT', 'link': 'http://www.floatrates.com/aud/kzt/', 'description': '1 Australian Dollar = 157.936241 Kazakhstani Tenge', 'pubDate': None, 'baseCurrency': 'AUD', 'baseName': 'Australian Dollar', 'targetCurrency': 'KZT', 'targetName': 'Kazakhstani Tenge', 'exchangeRate': '157.936241', 'inverseRate': '0.006332', 'inverseDescription': '1 Kazakhstani Tenge = 0.006332 Australian Dollar'}, {'title': '1 AUD = 1,160.285938 KRW', 'link': 'http://www.floatrates.com/aud/krw/', 'description': '1 Australian Dollar = 1,160.285938 South Korean Won', 'pubDate': None, 'baseCurrency': 'AUD', 'baseName': 'Australian Dollar', 'targetCurrency': 'KRW', 'targetName': 'South Korean Won', 'exchangeRate': '1,160.285938', 'inverseRate': '0.000862', 'inverseDescription': '1 South Korean Won = 0.000862 Australian Dollar'}, {'title': '1 AUD = 0.297261 KWD', 'link': 'http://www.floatrates.com/aud/kwd/', 'description': '1 Australian Dollar = 0.297261 Kuwaiti Dinar', 'pubDate': None, 'baseCurrency': 'AUD', 'baseName': 'Australian Dollar', 'targetCurrency': 'KWD', 'targetName': 'Kuwaiti Dinar', 'exchangeRate': '0.297261', 'inverseRate': '3.364045', 'inverseDescription': '1 Kuwaiti Dinar = 3.364045 Australian Dollar'}, {'title': '1 AUD = 2.093395 LYD', 'link': 'http://www.floatrates.com/aud/lyd/', 'description': '1 Australian Dollar = 2.093395 Libyan Dinar', 'pubDate': None, 'baseCurrency': 'AUD', 'baseName': 'Australian Dollar', 'targetCurrency': 'LYD', 'targetName': 'Libyan Dinar', 'exchangeRate': '2.093395', 'inverseRate': '0.477693', 'inverseDescription': '1 Libyan Dinar = 0.477693 Australian Dollar'}, {'title': '1 AUD = 3.227197 MYR', 'link': 'http://www.floatrates.com/aud/myr/', 'description': '1 Australian Dollar = 3.227197 Malaysian Ringgit', 'pubDate': None, 'baseCurrency': 'AUD', 'baseName': 'Australian Dollar', 'targetCurrency': 'MYR', 'targetName': 'Malaysian Ringgit', 'exchangeRate': '3.227197', 'inverseRate': '0.309866', 'inverseDescription': '1 Malaysian Ringgit = 0.309866 Australian Dollar'}, {'title': '1 AUD = 29.496995 MUR', 'link': 'http://www.floatrates.com/aud/mur/', 'description': '1 Australian Dollar = 29.496995 Mauritian Rupee', 'pubDate': None, 'baseCurrency': 'AUD', 'baseName': 'Australian Dollar', 'targetCurrency': 'MUR', 'targetName': 'Mauritian Rupee', 'exchangeRate': '29.496995', 'inverseRate': '0.033902', 'inverseDescription': '1 Mauritian Rupee = 0.033902 Australian Dollar'}, {'title': '1 AUD = 77.066906 NPR', 'link': 'http://www.floatrates.com/aud/npr/', 'description': '1 Australian Dollar = 77.066906 Nepalese Rupee', 'pubDate': None, 'baseCurrency': 'AUD', 'baseName': 'Australian Dollar', 'targetCurrency': 'NPR', 'targetName': 'Nepalese Rupee', 'exchangeRate': '77.066906', 'inverseRate': '0.012976', 'inverseDescription': '1 Nepalese Rupee = 0.012976 Australian Dollar'}, {'title': '1 AUD = 1.359692 NZD', 'link': 'http://www.floatrates.com/aud/nzd/', 'description': '1 Australian Dollar = 1.359692 New Zealand Dollar', 'pubDate': None, 'baseCurrency': 'AUD', 'baseName': 'Australian Dollar', 'targetCurrency': 'NZD', 'targetName': 'New Zealand Dollar', 'exchangeRate': '1.359692', 'inverseRate': '0.735461', 'inverseDescription': '1 New Zealand Dollar = 0.735461 Australian Dollar'}, {'title': '1 AUD = 5.729550 NOK', 'link': 'http://www.floatrates.com/aud/nok/', 'description': '1 Australian Dollar = 5.729550 Norwegian Krone', 'pubDate': None, 'baseCurrency': 'AUD', 'baseName': 'Australian Dollar', 'targetCurrency': 'NOK', 'targetName': 'Norwegian Krone', 'exchangeRate': '5.729550', 'inverseRate': '0.174534', 'inverseDescription': '1 Norwegian Krone = 0.174534 Australian Dollar'}, {'title': '1 AUD = 0.416534 OMR', 'link': 'http://www.floatrates.com/aud/omr/', 'description': '1 Australian Dollar = 0.416534 Omani Rial', 'pubDate': None, 'baseCurrency': 'AUD', 'baseName': 'Australian Dollar', 'targetCurrency': 'OMR', 'targetName': 'Omani Rial', 'exchangeRate': '0.416534', 'inverseRate': '2.400765', 'inverseDescription': '1 Omani Rial = 2.400765 Australian Dollar'}, {'title': '1 AUD = 91.332517 PKR', 'link': 'http://www.floatrates.com/aud/pkr/', 'description': '1 Australian Dollar = 91.332517 Pakistani Rupee', 'pubDate': None, 'baseCurrency': 'AUD', 'baseName': 'Australian Dollar', 'targetCurrency': 'PKR', 'targetName': 'Pakistani Rupee', 'exchangeRate': '91.332517', 'inverseRate': '0.010949', 'inverseDescription': '1 Pakistani Rupee = 0.010949 Australian Dollar'}, {'title': '1 AUD = 2.868978 PLN', 'link': 'http://www.floatrates.com/aud/pln/', 'description': '1 Australian Dollar = 2.868978 Polish Zloty', 'pubDate': None, 'baseCurrency': 'AUD', 'baseName': 'Australian Dollar', 'targetCurrency': 'PLN', 'targetName': 'Polish Zloty', 'exchangeRate': '2.868978', 'inverseRate': '0.348556', 'inverseDescription': '1 Polish Zloty = 0.348556 Australian Dollar'}, {'title': '1 AUD = 3.943260 QAR', 'link': 'http://www.floatrates.com/aud/qar/', 'description': '1 Australian Dollar = 3.943260 Qatari Rial', 'pubDate': None, 'baseCurrency': 'AUD', 'baseName': 'Australian Dollar', 'targetCurrency': 'QAR', 'targetName': 'Qatari Rial', 'exchangeRate': '3.943260', 'inverseRate': '0.253597', 'inverseDescription': '1 Qatari Rial = 0.253597 Australian Dollar'}, {'title': '1 AUD = 29.599456 RUB', 'link': 'http://www.floatrates.com/aud/rub/', 'description': '1 Australian Dollar = 29.599456 Russian Rouble', 'pubDate': None, 'baseCurrency': 'AUD', 'baseName': 'Australian Dollar', 'targetCurrency': 'RUB', 'targetName': 'Russian Rouble', 'exchangeRate': '29.599456', 'inverseRate': '0.033784', 'inverseDescription': '1 Russian Rouble = 0.033784 Australian Dollar'}, {'title': '1 AUD = 4.062425 SAR', 'link': 'http://www.floatrates.com/aud/sar/', 'description': '1 Australian Dollar = 4.062425 Saudi Riyal', 'pubDate': None, 'baseCurrency': 'AUD', 'baseName': 'Australian Dollar', 'targetCurrency': 'SAR', 'targetName': 'Saudi Riyal', 'exchangeRate': '4.062425', 'inverseRate': '0.246158', 'inverseDescription': '1 Saudi Riyal = 0.246158 Australian Dollar'}, {'title': '1 AUD = 1.331653 SGD', 'link': 'http://www.floatrates.com/aud/sgd/', 'description': '1 Australian Dollar = 1.331653 Singapore Dollar', 'pubDate': None, 'baseCurrency': 'AUD', 'baseName': 'Australian Dollar', 'targetCurrency': 'SGD', 'targetName': 'Singapore Dollar', 'exchangeRate': '1.331653', 'inverseRate': '0.750947', 'inverseDescription': '1 Singapore Dollar = 0.750947 Australian Dollar'}, {'title': '1 AUD = 7.175771 ZAR', 'link': 'http://www.floatrates.com/aud/zar/', 'description': '1 Australian Dollar = 7.175771 South African Rand', 'pubDate': None, 'baseCurrency': 'AUD', 'baseName': 'Australian Dollar', 'targetCurrency': 'ZAR', 'targetName': 'South African Rand', 'exchangeRate': '7.175771', 'inverseRate': '0.139358', 'inverseDescription': '1 South African Rand = 0.139358 Australian Dollar'}, {'title': '1 AUD = 118.927755 LKR', 'link': 'http://www.floatrates.com/aud/lkr/', 'description': '1 Australian Dollar = 118.927755 Sri Lanka Rupee', 'pubDate': None, 'baseCurrency': 'AUD', 'baseName': 'Australian Dollar', 'targetCurrency': 'LKR', 'targetName': 'Sri Lanka Rupee', 'exchangeRate': '118.927755', 'inverseRate': '0.008408', 'inverseDescription': '1 Sri Lanka Rupee = 0.008408 Australian Dollar'}, {'title': '1 AUD = 6.546689 SEK', 'link': 'http://www.floatrates.com/aud/sek/', 'description': '1 Australian Dollar = 6.546689 Swedish Krona', 'pubDate': None, 'baseCurrency': 'AUD', 'baseName': 'Australian Dollar', 'targetCurrency': 'SEK', 'targetName': 'Swedish Krona', 'exchangeRate': '6.546689', 'inverseRate': '0.152749', 'inverseDescription': '1 Swedish Krona = 0.152749 Australian Dollar'}, {'title': '1 AUD = 0.934049 CHF', 'link': 'http://www.floatrates.com/aud/chf/', 'description': '1 Australian Dollar = 0.934049 Swiss Franc', 'pubDate': None, 'baseCurrency': 'AUD', 'baseName': 'Australian Dollar', 'targetCurrency': 'CHF', 'targetName': 'Swiss Franc', 'exchangeRate': '0.934049', 'inverseRate': '1.070607', 'inverseDescription': '1 Swiss Franc = 1.070607 Australian Dollar'}, {'title': '1 AUD = 32.525312 THB', 'link': 'http://www.floatrates.com/aud/thb/', 'description': '1 Australian Dollar = 32.525312 Thai Baht', 'pubDate': None, 'baseCurrency': 'AUD', 'baseName': 'Australian Dollar', 'targetCurrency': 'THB', 'targetName': 'Thai Baht', 'exchangeRate': '32.525312', 'inverseRate': '0.030745', 'inverseDescription': '1 Thai Baht = 0.030745 Australian Dollar'}, {'title': '1 AUD = 6.927897 TTD', 'link': 'http://www.floatrates.com/aud/ttd/', 'description': '1 Australian Dollar = 6.927897 Trinidad Tobago Dollar', 'pubDate': None, 'baseCurrency': 'AUD', 'baseName': 'Australian Dollar', 'targetCurrency': 'TTD', 'targetName': 'Trinidad Tobago Dollar', 'exchangeRate': '6.927897', 'inverseRate': '0.144344', 'inverseDescription': '1 Trinidad Tobago Dollar = 0.144344 Australian Dollar'}, {'title': '1 AUD = 3.978468 AED', 'link': 'http://www.floatrates.com/aud/aed/', 'description': '1 Australian Dollar = 3.978468 U.A.E Dirham', 'pubDate': None, 'baseCurrency': 'AUD', 'baseName': 'Australian Dollar', 'targetCurrency': 'AED', 'targetName': 'U.A.E Dirham', 'exchangeRate': '3.978468', 'inverseRate': '0.251353', 'inverseDescription': '1 U.A.E Dirham = 0.251353 Australian Dollar'}, {'title': '1 AUD = 4.646656 VEF', 'link': 'http://www.floatrates.com/aud/vef/', 'description': '1 Australian Dollar = 4.646656 Venezuelan Bolivar (till 20 August 2018)', 'pubDate': None, 'baseCurrency': 'AUD', 'baseName': 'Australian Dollar', 'targetCurrency': 'VEF', 'targetName': 'Venezuelan Bolivar (till 20 August 2018)', 'exchangeRate': '4.646656', 'inverseRate': '0.215209', 'inverseDescription': '1 Venezuelan Bolivar (till 20 August 2018) = 0.215209 Australian Dollar'}, {'title': '1 AUD = 87.803552 JPY', 'link': 'http://www.floatrates.com/aud/jpy/', 'description': '1 Australian Dollar = 87.803552 Japanese Yen', 'pubDate': None, 'baseCurrency': 'AUD', 'baseName': 'Australian Dollar', 'targetCurrency': 'JPY', 'targetName': 'Japanese Yen', 'exchangeRate': '87.803552', 'inverseRate': '0.011389', 'inverseDescription': '1 Japanese Yen = 0.011389 Australian Dollar'}, {'title': '1 AUD = 1.423696 BGN', 'link': 'http://www.floatrates.com/aud/bgn/', 'description': '1 Australian Dollar = 1.423696 Bulgarian Lev', 'pubDate': None, 'baseCurrency': 'AUD', 'baseName': 'Australian Dollar', 'targetCurrency': 'BGN', 'targetName': 'Bulgarian Lev', 'exchangeRate': '1.423696', 'inverseRate': '0.702397', 'inverseDescription': '1 Bulgarian Lev = 0.702397 Australian Dollar'}, {'title': '1 AUD = 2.513415 LTL', 'link': 'http://www.floatrates.com/aud/ltl/', 'description': '1 Australian Dollar = 2.513415 Lithuanian Litas', 'pubDate': None, 'baseCurrency': 'AUD', 'baseName': 'Australian Dollar', 'targetCurrency': 'LTL', 'targetName': 'Lithuanian Litas', 'exchangeRate': '2.513415', 'inverseRate': '0.397865', 'inverseDescription': '1 Lithuanian Litas = 0.397865 Australian Dollar'}, {'title': '1 AUD = 0.516470 LVL', 'link': 'http://www.floatrates.com/aud/lvl/', 'description': '1 Australian Dollar = 0.516470 Latvian Lats', 'pubDate': None, 'baseCurrency': 'AUD', 'baseName': 'Australian Dollar', 'targetCurrency': 'LVL', 'targetName': 'Latvian Lats', 'exchangeRate': '0.516470', 'inverseRate': '1.936221', 'inverseDescription': '1 Latvian Lats = 1.936221 Australian Dollar'}, {'title': '1 AUD = 2.991814 RON', 'link': 'http://www.floatrates.com/aud/ron/', 'description': '1 Australian Dollar = 2.991814 Romanian New Leu', 'pubDate': None, 'baseCurrency': 'AUD', 'baseName': 'Australian Dollar', 'targetCurrency': 'RON', 'targetName': 'Romanian New Leu', 'exchangeRate': '2.991814', 'inverseRate': '0.334245', 'inverseDescription': '1 Romanian New Leu = 0.334245 Australian Dollar'}, {'title': '1 AUD = 5.373254 HRK', 'link': 'http://www.floatrates.com/aud/hrk/', 'description': '1 Australian Dollar = 5.373254 Croatian Kuna', 'pubDate': None, 'baseCurrency': 'AUD', 'baseName': 'Australian Dollar', 'targetCurrency': 'HRK', 'targetName': 'Croatian Kuna', 'exchangeRate': '5.373254', 'inverseRate': '0.186107', 'inverseDescription': '1 Croatian Kuna = 0.186107 Australian Dollar'}, {'title': '1 AUD = 1.665298 TRY', 'link': 'http://www.floatrates.com/aud/try/', 'description': '1 Australian Dollar = 1.665298 Turkish Lira', 'pubDate': None, 'baseCurrency': 'AUD', 'baseName': 'Australian Dollar', 'targetCurrency': 'TRY', 'targetName': 'Turkish Lira', 'exchangeRate': '1.665298', 'inverseRate': '0.600493', 'inverseDescription': '1 Turkish Lira = 0.600493 Australian Dollar'}, {'title': '1 AUD = 1.716399 BRL', 'link': 'http://www.floatrates.com/aud/brl/', 'description': '1 Australian Dollar = 1.716399 Brazilian Real', 'pubDate': None, 'baseCurrency': 'AUD', 'baseName': 'Australian Dollar', 'targetCurrency': 'BRL', 'targetName': 'Brazilian Real', 'exchangeRate': '1.716399', 'inverseRate': '0.582615', 'inverseDescription': '1 Brazilian Real = 0.582615 Australian Dollar'}, {'title': '1 AUD = 8.416606 HKD', 'link': 'http://www.floatrates.com/aud/hkd/', 'description': '1 Australian Dollar = 8.416606 Hong Kong Dollar', 'pubDate': None, 'baseCurrency': 'AUD', 'baseName': 'Australian Dollar', 'targetCurrency': 'HKD', 'targetName': 'Hong Kong Dollar', 'exchangeRate': '8.416606', 'inverseRate': '0.118813', 'inverseDescription': '1 Hong Kong Dollar = 0.118813 Australian Dollar'}, {'title': '1 AUD = 12.533153 MXN', 'link': 'http://www.floatrates.com/aud/mxn/', 'description': '1 Australian Dollar = 12.533153 Mexican Peso', 'pubDate': None, 'baseCurrency': 'AUD', 'baseName': 'Australian Dollar', 'targetCurrency': 'MXN', 'targetName': 'Mexican Peso', 'exchangeRate': '12.533153', 'inverseRate': '0.079788', 'inverseDescription': '1 Mexican Peso = 0.079788 Australian Dollar'}, {'title': '1 AUD = 46.488858 PHP', 'link': 'http://www.floatrates.com/aud/php/', 'description': '1 Australian Dollar = 46.488858 Philippine Peso', 'pubDate': None, 'baseCurrency': 'AUD', 'baseName': 'Australian Dollar', 'targetCurrency': 'PHP', 'targetName': 'Philippine Peso', 'exchangeRate': '46.488858', 'inverseRate': '0.021511', 'inverseDescription': '1 Philippine Peso = 0.021511 Australian Dollar'}]}\n"
     ]
    }
   ],
   "source": [
    "print(seldict['channel'])"
   ]
  },
  {
   "cell_type": "code",
   "execution_count": 39,
   "id": "443f2722-f321-41be-80d8-671c710003d1",
   "metadata": {},
   "outputs": [
    {
     "name": "stdout",
     "output_type": "stream",
     "text": [
      "Euro\n",
      "0.727935\n",
      "U.K. Pound Sterling\n",
      "0.655741\n",
      "U.S. Dollar\n",
      "1.083313\n",
      "Algerian Dinar\n",
      "77.232653\n",
      "Australian Dollar\n",
      "1.000000\n",
      "Botswana Pula\n",
      "6.904482\n",
      "Brunei Dollar\n",
      "1.332692\n",
      "Canadian Dollar\n",
      "1.035825\n",
      "Chilean Peso\n",
      "501.649875\n",
      "Chinese Yuan\n",
      "7.040121\n",
      "Colombian Peso\n",
      "1,914.268709\n",
      "Czech Koruna\n",
      "17.620922\n",
      "Danish Krone\n",
      "5.428056\n",
      "Hungarian Forint\n",
      "193.188136\n",
      "Icelandic Krona\n",
      "120.670265\n",
      "Indian Rupee\n",
      "48.261544\n",
      "Indonesian Rupiah\n",
      "9,269.544116\n",
      "Israeli New Sheqel\n",
      "3.675454\n",
      "Kazakhstani Tenge\n",
      "157.936241\n",
      "South Korean Won\n",
      "1,160.285938\n",
      "Kuwaiti Dinar\n",
      "0.297261\n",
      "Libyan Dinar\n",
      "2.093395\n",
      "Malaysian Ringgit\n",
      "3.227197\n",
      "Mauritian Rupee\n",
      "29.496995\n",
      "Nepalese Rupee\n",
      "77.066906\n",
      "New Zealand Dollar\n",
      "1.359692\n",
      "Norwegian Krone\n",
      "5.729550\n",
      "Omani Rial\n",
      "0.416534\n",
      "Pakistani Rupee\n",
      "91.332517\n",
      "Polish Zloty\n",
      "2.868978\n",
      "Qatari Rial\n",
      "3.943260\n",
      "Russian Rouble\n",
      "29.599456\n",
      "Saudi Riyal\n",
      "4.062425\n",
      "Singapore Dollar\n",
      "1.331653\n",
      "South African Rand\n",
      "7.175771\n",
      "Sri Lanka Rupee\n",
      "118.927755\n",
      "Swedish Krona\n",
      "6.546689\n",
      "Swiss Franc\n",
      "0.934049\n",
      "Thai Baht\n",
      "32.525312\n",
      "Trinidad Tobago Dollar\n",
      "6.927897\n",
      "U.A.E Dirham\n",
      "3.978468\n",
      "Venezuelan Bolivar (till 20 August 2018)\n",
      "4.646656\n",
      "Japanese Yen\n",
      "87.803552\n",
      "Bulgarian Lev\n",
      "1.423696\n",
      "Lithuanian Litas\n",
      "2.513415\n",
      "Latvian Lats\n",
      "0.516470\n",
      "Romanian New Leu\n",
      "2.991814\n",
      "Croatian Kuna\n",
      "5.373254\n",
      "Turkish Lira\n",
      "1.665298\n",
      "Brazilian Real\n",
      "1.716399\n",
      "Hong Kong Dollar\n",
      "8.416606\n",
      "Mexican Peso\n",
      "12.533153\n",
      "Philippine Peso\n",
      "46.488858\n",
      "['Euro', 'U.K. Pound Sterling', 'U.S. Dollar', 'Algerian Dinar', 'Australian Dollar', 'Botswana Pula', 'Brunei Dollar', 'Canadian Dollar', 'Chilean Peso', 'Chinese Yuan', 'Colombian Peso', 'Czech Koruna', 'Danish Krone', 'Hungarian Forint', 'Icelandic Krona', 'Indian Rupee', 'Indonesian Rupiah', 'Israeli New Sheqel', 'Kazakhstani Tenge', 'South Korean Won', 'Kuwaiti Dinar', 'Libyan Dinar', 'Malaysian Ringgit', 'Mauritian Rupee', 'Nepalese Rupee', 'New Zealand Dollar', 'Norwegian Krone', 'Omani Rial', 'Pakistani Rupee', 'Polish Zloty', 'Qatari Rial', 'Russian Rouble', 'Saudi Riyal', 'Singapore Dollar', 'South African Rand', 'Sri Lanka Rupee', 'Swedish Krona', 'Swiss Franc', 'Thai Baht', 'Trinidad Tobago Dollar', 'U.A.E Dirham', 'Venezuelan Bolivar (till 20 August 2018)', 'Japanese Yen', 'Bulgarian Lev', 'Lithuanian Litas', 'Latvian Lats', 'Romanian New Leu', 'Croatian Kuna', 'Turkish Lira', 'Brazilian Real', 'Hong Kong Dollar', 'Mexican Peso', 'Philippine Peso']\n",
      "['0.727935', '0.655741', '1.083313', '77.232653', '1.000000', '6.904482', '1.332692', '1.035825', '501.649875', '7.040121', '1,914.268709', '17.620922', '5.428056', '193.188136', '120.670265', '48.261544', '9,269.544116', '3.675454', '157.936241', '1,160.285938', '0.297261', '2.093395', '3.227197', '29.496995', '77.066906', '1.359692', '5.729550', '0.416534', '91.332517', '2.868978', '3.943260', '29.599456', '4.062425', '1.331653', '7.175771', '118.927755', '6.546689', '0.934049', '32.525312', '6.927897', '3.978468', '4.646656', '87.803552', '1.423696', '2.513415', '0.516470', '2.991814', '5.373254', '1.665298', '1.716399', '8.416606', '12.533153', '46.488858']\n"
     ]
    }
   ],
   "source": [
    "listx = []\n",
    "listy = []\n",
    "for i in seldict['channel']['item']:\n",
    "    print(i['targetName'])\n",
    "    print(i[\"exchangeRate\"])\n",
    "    listy.append(i[\"exchangeRate\"])\n",
    "    listx.append(i[\"targetName\"])\n",
    "print(listx)\n",
    "print(listy)"
   ]
  },
  {
   "cell_type": "code",
   "execution_count": 40,
   "id": "79adda9f-ed07-4dce-bb5d-be056eb6b774",
   "metadata": {},
   "outputs": [
    {
     "ename": "ValueError",
     "evalue": "'['0.727935', '0.655741', '1.083313', '77.232653', '1.000000', '6.904482', '1.332692', '1.035825', '501.649875', '7.040121', '1,914.268709', '17.620922', '5.428056', '193.188136', '120.670265', '48.261544', '9,269.544116', '3.675454', '157.936241', '1,160.285938', '0.297261', '2.093395', '3.227197', '29.496995', '77.066906', '1.359692', '5.729550', '0.416534', '91.332517', '2.868978', '3.943260', '29.599456', '4.062425', '1.331653', '7.175771', '118.927755', '6.546689', '0.934049', '32.525312', '6.927897', '3.978468', '4.646656', '87.803552', '1.423696', '2.513415', '0.516470', '2.991814', '5.373254', '1.665298', '1.716399', '8.416606', '12.533153', '46.488858']' is not one of the example datasets.",
     "output_type": "error",
     "traceback": [
      "\u001b[1;31m---------------------------------------------------------------------------\u001b[0m",
      "\u001b[1;31mValueError\u001b[0m                                Traceback (most recent call last)",
      "Cell \u001b[1;32mIn[40], line 1\u001b[0m\n\u001b[1;32m----> 1\u001b[0m \u001b[43msns\u001b[49m\u001b[38;5;241;43m.\u001b[39;49m\u001b[43mload_dataset\u001b[49m\u001b[43m(\u001b[49m\u001b[43mlisty\u001b[49m\u001b[43m)\u001b[49m\n",
      "File \u001b[1;32m~\\AppData\\Local\\Programs\\Python\\Python313\\Lib\\site-packages\\seaborn\\utils.py:573\u001b[0m, in \u001b[0;36mload_dataset\u001b[1;34m(name, cache, data_home, **kws)\u001b[0m\n\u001b[0;32m    571\u001b[0m \u001b[38;5;28;01mif\u001b[39;00m \u001b[38;5;129;01mnot\u001b[39;00m os\u001b[38;5;241m.\u001b[39mpath\u001b[38;5;241m.\u001b[39mexists(cache_path):\n\u001b[0;32m    572\u001b[0m     \u001b[38;5;28;01mif\u001b[39;00m name \u001b[38;5;129;01mnot\u001b[39;00m \u001b[38;5;129;01min\u001b[39;00m get_dataset_names():\n\u001b[1;32m--> 573\u001b[0m         \u001b[38;5;28;01mraise\u001b[39;00m \u001b[38;5;167;01mValueError\u001b[39;00m(\u001b[38;5;124mf\u001b[39m\u001b[38;5;124m\"\u001b[39m\u001b[38;5;124m'\u001b[39m\u001b[38;5;132;01m{\u001b[39;00mname\u001b[38;5;132;01m}\u001b[39;00m\u001b[38;5;124m'\u001b[39m\u001b[38;5;124m is not one of the example datasets.\u001b[39m\u001b[38;5;124m\"\u001b[39m)\n\u001b[0;32m    574\u001b[0m     urlretrieve(url, cache_path)\n\u001b[0;32m    575\u001b[0m full_path \u001b[38;5;241m=\u001b[39m cache_path\n",
      "\u001b[1;31mValueError\u001b[0m: '['0.727935', '0.655741', '1.083313', '77.232653', '1.000000', '6.904482', '1.332692', '1.035825', '501.649875', '7.040121', '1,914.268709', '17.620922', '5.428056', '193.188136', '120.670265', '48.261544', '9,269.544116', '3.675454', '157.936241', '1,160.285938', '0.297261', '2.093395', '3.227197', '29.496995', '77.066906', '1.359692', '5.729550', '0.416534', '91.332517', '2.868978', '3.943260', '29.599456', '4.062425', '1.331653', '7.175771', '118.927755', '6.546689', '0.934049', '32.525312', '6.927897', '3.978468', '4.646656', '87.803552', '1.423696', '2.513415', '0.516470', '2.991814', '5.373254', '1.665298', '1.716399', '8.416606', '12.533153', '46.488858']' is not one of the example datasets."
     ]
    }
   ],
   "source": [
    "sns.load_dataset(listy)"
   ]
  },
  {
   "cell_type": "code",
   "execution_count": null,
   "id": "f7737b07-c803-4f7d-9d7e-157f80f0bbb0",
   "metadata": {},
   "outputs": [],
   "source": [
    "plt.figure(figsize = (15,8))\n",
    "sns.countplot(x=listx"
   ]
  }
 ],
 "metadata": {
  "kernelspec": {
   "display_name": "Python 3",
   "language": "python",
   "name": "python3"
  },
  "language_info": {
   "codemirror_mode": {
    "name": "ipython",
    "version": 3
   },
   "file_extension": ".py",
   "mimetype": "text/x-python",
   "name": "python",
   "nbconvert_exporter": "python",
   "pygments_lexer": "ipython3",
   "version": "3.13.1"
  }
 },
 "nbformat": 4,
 "nbformat_minor": 5
}
